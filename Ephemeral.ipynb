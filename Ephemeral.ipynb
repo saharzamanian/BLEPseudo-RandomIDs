{
  "metadata": {
    "colab": {
      "provenance": []
    },
    "kernelspec": {
      "name": "python3",
      "display_name": "Python 3",
      "language": "python"
    },
    "language_info": {
      "name": "python",
      "version": "3.7.12",
      "mimetype": "text/x-python",
      "codemirror_mode": {
        "name": "ipython",
        "version": 3
      },
      "pygments_lexer": "ipython3",
      "nbconvert_exporter": "python",
      "file_extension": ".py"
    }
  },
  "nbformat_minor": 0,
  "nbformat": 4,
  "cells": [
    {
      "cell_type": "code",
      "source": [
        "import numpy as np\n",
        "from numpy import unique, argmax\n",
        "from tensorflow.keras import Sequential\n",
        "from tensorflow.keras.layers import Conv2D, MaxPool2D, Dense, Flatten, Dropout, Conv1D, MaxPool1D\n",
        "import tensorflow.keras as K\n",
        "from tensorflow.keras.utils import plot_model\n",
        "from matplotlib import pyplot\n",
        "import matplotlib.pyplot as plt\n",
        "\n",
        "import hashlib\n",
        "import time\n",
        "\n",
        "import random"
      ],
      "metadata": {
        "id": "gb89luZN4Ei3",
        "execution": {
          "iopub.status.busy": "2022-11-01T16:05:08.697961Z",
          "iopub.execute_input": "2022-11-01T16:05:08.698772Z",
          "iopub.status.idle": "2022-11-01T16:05:10.960972Z",
          "shell.execute_reply.started": "2022-11-01T16:05:08.698698Z",
          "shell.execute_reply": "2022-11-01T16:05:10.959564Z"
        },
        "trusted": true
      },
      "execution_count": 1,
      "outputs": []
    },
    {
      "cell_type": "code",
      "source": [
        "def generate_ephemeral_id(seed):\n",
        "    data = f\"{seed}{time.time()}\".encode('utf-8')\n",
        "    hash_object = hashlib.sha256(data)\n",
        "    ephemeral_id = hash_object.hexdigest()\n",
        "    return ephemeral_id\n",
        "\n",
        "\n",
        "def string_to_uint32_array(id):\n",
        "    flat_array = [int(id[i:i+1], 16) for i in range(0, len(id), 1)]\n",
        "    array_2d = np.array(flat_array).reshape(8, 8)\n",
        "    return array_2d"
      ],
      "metadata": {
        "id": "E3ojR1Yd-qe8"
      },
      "execution_count": 93,
      "outputs": []
    },
    {
      "cell_type": "code",
      "source": [
        "def generate_data(size: int, seeds):\n",
        "  data = np.empty([size, 8, 8], dtype=np.uint32)\n",
        "  labels = np.empty([size, 1], dtype=np.ubyte)\n",
        "\n",
        "  for data_index in range(size):\n",
        "    device_number = random.randint(0, len(seeds)-1)\n",
        "    labels[data_index] = device_number\n",
        "    ephemeral_id = generate_ephemeral_id(seeds[device_number])\n",
        "    data[data_index] = string_to_uint32_array(ephemeral_id)\n",
        "\n",
        "  return (data, labels)"
      ],
      "metadata": {
        "id": "S3OX5Ok_oJvo"
      },
      "execution_count": 94,
      "outputs": []
    },
    {
      "cell_type": "code",
      "source": [
        "SEEDS = [\"Device0\", \"Device1\", \"Device2\", \"Device3\"]\n",
        "\n",
        "NUM_TRAIN_DATA = 2000\n",
        "NUM_VAL_DATA = 300\n",
        "NUM_TEST_DATA = 100\n",
        "\n",
        "training_data, training_labels = generate_data(NUM_TRAIN_DATA, SEEDS)\n",
        "validation_data, validation_labels = generate_data(NUM_VAL_DATA, SEEDS)\n",
        "test_data, test_labels = generate_data(NUM_TEST_DATA, SEEDS)"
      ],
      "metadata": {
        "id": "0x8yuCqIovDy"
      },
      "execution_count": 95,
      "outputs": []
    },
    {
      "cell_type": "code",
      "source": [
        "training_data = np.reshape(training_data, (training_data.shape[0], training_data.shape[1], training_data.shape[2], 1))\n",
        "validation_data = np.reshape(validation_data, (validation_data.shape[0], validation_data.shape[1], validation_data.shape[2], 1))\n",
        "test_data = np.reshape(test_data, (test_data.shape[0], test_data.shape[1], test_data.shape[2], 1))\n",
        "\n",
        "print(\"Size of training data is \", np.shape(training_data))\n",
        "print(\"Size of validation data is \", np.shape(validation_data))\n",
        "print(\"Size of test data is \", np.shape(test_data))"
      ],
      "metadata": {
        "colab": {
          "base_uri": "https://localhost:8080/"
        },
        "id": "1l_kKzR4VhsC",
        "outputId": "daca2a05-4b7d-4912-c5e2-95d6fb8a2765"
      },
      "execution_count": 96,
      "outputs": [
        {
          "output_type": "stream",
          "name": "stdout",
          "text": [
            "Size of training data is  (2000, 8, 8, 1)\n",
            "Size of validation data is  (300, 8, 8, 1)\n",
            "Size of test data is  (100, 8, 8, 1)\n"
          ]
        }
      ]
    },
    {
      "cell_type": "code",
      "source": [
        "model = Sequential([\n",
        "    Conv2D(6, (3, 3), activation='relu', input_shape=training_data.shape[1:]),\n",
        "    MaxPool2D(2, 2),\n",
        "    Flatten(),\n",
        "    Dense(50, activation='relu'),\n",
        "    Dense(len(SEEDS), activation='softmax')\n",
        "])\n",
        "\n",
        "model.summary()\n",
        "model.compile(optimizer='adam', loss='sparse_categorical_crossentropy', metrics=['accuracy'])\n",
        "history_2 = model.fit(training_data, training_labels, validation_data=(validation_data, validation_labels), batch_size=10, epochs=10)"
      ],
      "metadata": {
        "id": "0WY77eGQ6Axt",
        "execution": {
          "iopub.status.busy": "2022-11-01T16:05:12.589417Z",
          "iopub.execute_input": "2022-11-01T16:05:12.590216Z",
          "iopub.status.idle": "2022-11-01T16:05:12.683140Z",
          "shell.execute_reply.started": "2022-11-01T16:05:12.590166Z",
          "shell.execute_reply": "2022-11-01T16:05:12.682191Z"
        },
        "trusted": true,
        "colab": {
          "base_uri": "https://localhost:8080/"
        },
        "outputId": "e8a4eb1b-c025-433d-fdd0-87cacd043874"
      },
      "execution_count": 97,
      "outputs": [
        {
          "output_type": "stream",
          "name": "stdout",
          "text": [
            "Model: \"sequential_3\"\n",
            "_________________________________________________________________\n",
            " Layer (type)                Output Shape              Param #   \n",
            "=================================================================\n",
            " conv2d_3 (Conv2D)           (None, 6, 6, 6)           60        \n",
            "                                                                 \n",
            " max_pooling2d_3 (MaxPoolin  (None, 3, 3, 6)           0         \n",
            " g2D)                                                            \n",
            "                                                                 \n",
            " flatten_3 (Flatten)         (None, 54)                0         \n",
            "                                                                 \n",
            " dense_6 (Dense)             (None, 50)                2750      \n",
            "                                                                 \n",
            " dense_7 (Dense)             (None, 4)                 204       \n",
            "                                                                 \n",
            "=================================================================\n",
            "Total params: 3014 (11.77 KB)\n",
            "Trainable params: 3014 (11.77 KB)\n",
            "Non-trainable params: 0 (0.00 Byte)\n",
            "_________________________________________________________________\n",
            "Epoch 1/10\n",
            "200/200 [==============================] - 2s 6ms/step - loss: 1.6779 - accuracy: 0.2470 - val_loss: 1.5203 - val_accuracy: 0.1967\n",
            "Epoch 2/10\n",
            "200/200 [==============================] - 1s 3ms/step - loss: 1.4514 - accuracy: 0.2700 - val_loss: 1.4575 - val_accuracy: 0.2367\n",
            "Epoch 3/10\n",
            "200/200 [==============================] - 1s 3ms/step - loss: 1.4052 - accuracy: 0.2870 - val_loss: 1.4389 - val_accuracy: 0.2600\n",
            "Epoch 4/10\n",
            "200/200 [==============================] - 1s 3ms/step - loss: 1.3754 - accuracy: 0.3090 - val_loss: 1.4450 - val_accuracy: 0.2533\n",
            "Epoch 5/10\n",
            "200/200 [==============================] - 1s 3ms/step - loss: 1.3565 - accuracy: 0.3350 - val_loss: 1.4297 - val_accuracy: 0.2833\n",
            "Epoch 6/10\n",
            "200/200 [==============================] - 1s 3ms/step - loss: 1.3416 - accuracy: 0.3250 - val_loss: 1.4314 - val_accuracy: 0.2667\n",
            "Epoch 7/10\n",
            "200/200 [==============================] - 1s 3ms/step - loss: 1.3269 - accuracy: 0.3650 - val_loss: 1.4377 - val_accuracy: 0.2700\n",
            "Epoch 8/10\n",
            "200/200 [==============================] - 1s 3ms/step - loss: 1.3112 - accuracy: 0.3660 - val_loss: 1.4555 - val_accuracy: 0.2600\n",
            "Epoch 9/10\n",
            "200/200 [==============================] - 0s 2ms/step - loss: 1.2929 - accuracy: 0.3860 - val_loss: 1.4639 - val_accuracy: 0.2333\n",
            "Epoch 10/10\n",
            "200/200 [==============================] - 0s 2ms/step - loss: 1.2781 - accuracy: 0.4025 - val_loss: 1.4609 - val_accuracy: 0.2933\n"
          ]
        }
      ]
    },
    {
      "cell_type": "code",
      "source": [
        "# ploting the learning curves\n",
        "pyplot.title('Learning Curves')\n",
        "pyplot.xlabel('Epochs')\n",
        "pyplot.ylabel('Accuracy')\n",
        "pyplot.plot(history_2.history['accuracy'], label='train')\n",
        "pyplot.plot(history_2.history['val_accuracy'], label='val')\n",
        "pyplot.legend()\n",
        "pyplot.show()"
      ],
      "metadata": {
        "id": "jiWYci2QmeaV",
        "execution": {
          "iopub.status.busy": "2022-11-01T16:05:17.100596Z",
          "iopub.execute_input": "2022-11-01T16:05:17.101039Z",
          "iopub.status.idle": "2022-11-01T16:05:17.374430Z",
          "shell.execute_reply.started": "2022-11-01T16:05:17.101001Z",
          "shell.execute_reply": "2022-11-01T16:05:17.373099Z"
        },
        "trusted": true,
        "colab": {
          "base_uri": "https://localhost:8080/",
          "height": 472
        },
        "outputId": "42724baf-6fe6-4f35-92f6-aed39d0bca7e"
      },
      "execution_count": 98,
      "outputs": [
        {
          "output_type": "display_data",
          "data": {
            "text/plain": [
              "<Figure size 640x480 with 1 Axes>"
            ],
            "image/png": "[encoded data removed]"
          },
          "metadata": {}
        }
      ]
    },
    {
      "cell_type": "code",
      "source": [
        "# evaluate the model\n",
        "loss, accuracy = model.evaluate(test_data, test_labels, verbose=0)\n",
        "print(f'Accuracy: {accuracy*100}')"
      ],
      "metadata": {
        "id": "PO72iHi0mgwt",
        "execution": {
          "iopub.status.busy": "2022-11-01T16:05:17.375860Z",
          "iopub.execute_input": "2022-11-01T16:05:17.376205Z",
          "iopub.status.idle": "2022-11-01T16:05:17.465218Z",
          "shell.execute_reply.started": "2022-11-01T16:05:17.376175Z",
          "shell.execute_reply": "2022-11-01T16:05:17.463954Z"
        },
        "trusted": true,
        "colab": {
          "base_uri": "https://localhost:8080/"
        },
        "outputId": "d9e89676-2602-4c4e-a2ad-289ccc3fed62"
      },
      "execution_count": 99,
      "outputs": [
        {
          "output_type": "stream",
          "name": "stdout",
          "text": [
            "Accuracy: 27.000001072883606\n"
          ]
        }
      ]
    },
    {
      "cell_type": "code",
      "source": [
        "for index in range(len(test_data)):\n",
        "  prediction = model.predict([np.expand_dims(test_data[index], axis=0)], verbose = 0)\n",
        "  print('Predicted label: {} - Actual label: {}'.format(argmax(prediction), test_labels[index]))"
      ],
      "metadata": {
        "id": "bo1YVN0Rmin-",
        "execution": {
          "iopub.status.busy": "2022-11-01T16:05:17.466796Z",
          "iopub.execute_input": "2022-11-01T16:05:17.467165Z",
          "iopub.status.idle": "2022-11-01T16:05:17.693559Z",
          "shell.execute_reply.started": "2022-11-01T16:05:17.467131Z",
          "shell.execute_reply": "2022-11-01T16:05:17.692370Z"
        },
        "trusted": true
      },
      "execution_count": null,
      "outputs": []
    },
    {
      "cell_type": "code",
      "source": [
        "pip install tinymlgen"
      ],
      "metadata": {
        "id": "Ipu1wfi4kLSQ"
      },
      "execution_count": null,
      "outputs": []
    },
    {
      "cell_type": "code",
      "source": [
        "from tinymlgen import port\n",
        "\n",
        "c_code = port(model, variable_name='model', pretty_print=True,optimize=False)\n",
        "filename = 'net.h'\n",
        "with open(filename,'w') as f:\n",
        "    f.write(c_code)"
      ],
      "metadata": {
        "id": "AN_lEWxOCqJe"
      },
      "execution_count": 101,
      "outputs": []
    },
    {
      "cell_type": "code",
      "source": [
        "test_data[0].flatten()"
      ],
      "metadata": {
        "colab": {
          "base_uri": "https://localhost:8080/"
        },
        "id": "ImqR43-UFaD3",
        "outputId": "4de425fb-933a-4f8c-de8b-2dee3dd7718b"
      },
      "execution_count": 91,
      "outputs": [
        {
          "output_type": "execute_result",
          "data": {
            "text/plain": [
              "array([ 9.,  0.,  2., 10.,  2.,  6., 10., 14., 11.,  0.,  1.,  1.,  5.,\n",
              "        5., 10., 14.,  9., 10.,  4., 12., 10., 13.,  2.,  5.,  9., 15.,\n",
              "       10.,  5.,  9.,  2., 11.,  1.,  3.,  7., 15., 14.,  1.,  0., 10.,\n",
              "       12.,  1.,  0., 11.,  0., 10.,  3., 13.,  9., 13.,  9., 13.,  6.,\n",
              "       12.,  7., 11., 11., 13.,  9.,  8.,  6., 12.,  8.,  5.,  1.],\n",
              "      dtype=float32)"
            ]
          },
          "metadata": {},
          "execution_count": 91
        }
      ]
    }
  ]
}