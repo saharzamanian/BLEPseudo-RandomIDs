{
  "cells": [
    {
      "cell_type": "code",
      "execution_count": null,
      "metadata": {
        "id": "gb89luZN4Ei3"
      },
      "outputs": [],
      "source": [
        "import numpy as np\n",
        "from numpy import unique, argmax\n",
        "from tensorflow.keras import Sequential\n",
        "from tensorflow.keras.layers import Conv2D, MaxPool2D, Dense, Flatten, Dropout, Conv1D, MaxPool1D\n",
        "import tensorflow.keras as K\n",
        "from tensorflow.keras.utils import plot_model\n",
        "from matplotlib import pyplot\n",
        "import matplotlib.pyplot as plt\n",
        "\n",
        "import hashlib\n",
        "import time\n",
        "\n",
        "import random"
      ]
    },
    {
      "cell_type": "code",
      "execution_count": null,
      "metadata": {
        "id": "wQnfmYrjhtkQ"
      },
      "outputs": [],
      "source": [
        "def read_items(data_file_name, label_file_name):\n",
        "  with open(data_file_name) as f:\n",
        "      lines = f.read().splitlines()\n",
        "      data = np.empty([len(lines), 8, 8], dtype=np.uint32)\n",
        "      for index, item in enumerate(lines):\n",
        "          item = f'{item:064}'\n",
        "          ephemeral_id = string_to_uint32_array(item)\n",
        "          data[index] = ephemeral_id\n",
        "\n",
        "  with open(label_file_name) as f:\n",
        "      labels = f.read().splitlines()\n",
        "  labels = [int(i) for i in labels]\n",
        "  labels = np.asarray(labels)\n",
        "  labels = labels.reshape(len(labels), 1)\n",
        "\n",
        "  return data, labels"
      ]
    },
    {
      "cell_type": "code",
      "execution_count": null,
      "metadata": {
        "id": "E3ojR1Yd-qe8"
      },
      "outputs": [],
      "source": [
        "def generate_ephemeral_id(seed):\n",
        "    data = f\"{seed}{time.time()}\".encode('utf-8')\n",
        "    hash_object = hashlib.sha256(data)\n",
        "    ephemeral_id = hash_object.hexdigest()\n",
        "    return ephemeral_id\n",
        "\n",
        "\n",
        "def string_to_uint32_2d_array(id):\n",
        "    flat_array = [int(id[i:i+1], 16) for i in range(0, len(id), 1)]\n",
        "    array_2d = np.array(flat_array).reshape(8, 8)\n",
        "    return array_2d\n",
        "\n",
        "\n",
        "def string_to_uint32_1d_array(id):\n",
        "    flat_array = [int(id[i:i+1], 16) for i in range(0, len(id), 1)]\n",
        "    flat_array = np.array(flat_array).reshape(64,)\n",
        "    return flat_array"
      ]
    },
    {
      "cell_type": "code",
      "execution_count": null,
      "metadata": {
        "id": "S3OX5Ok_oJvo"
      },
      "outputs": [],
      "source": [
        "def generate_data(size: int, seeds):\n",
        "  data = np.empty([size, 8, 8], dtype=np.uint32)\n",
        "  labels = np.empty([size, 1], dtype=np.ubyte)\n",
        "\n",
        "  for data_index in range(size):\n",
        "    device_number = random.randint(0, len(seeds)-1)\n",
        "    labels[data_index] = device_number\n",
        "    ephemeral_id = generate_ephemeral_id(seeds[device_number])\n",
        "    data[data_index] = string_to_uint32_2d_array(ephemeral_id)\n",
        "\n",
        "  return (data, labels)"
      ]
    },
    {
      "cell_type": "code",
      "execution_count": null,
      "metadata": {
        "id": "9_8jn7K8VA8D"
      },
      "outputs": [],
      "source": [
        "def generate_data_1d(size: int, seeds):\n",
        "  data = np.empty([size, 64], dtype=np.uint32)\n",
        "  labels = np.empty([size, 1], dtype=np.ubyte)\n",
        "\n",
        "  for data_index in range(size):\n",
        "    device_number = random.randint(0, len(seeds)-1)\n",
        "    labels[data_index] = device_number\n",
        "    ephemeral_id = generate_ephemeral_id(seeds[device_number])\n",
        "    data[data_index] = string_to_uint32_1d_array(ephemeral_id)\n",
        "\n",
        "  return (data, labels)"
      ]
    },
    {
      "cell_type": "code",
      "execution_count": null,
      "metadata": {
        "id": "0x8yuCqIovDy"
      },
      "outputs": [],
      "source": [
        "SEEDS = [\"Device0\", \"Device1\", \"Device2\", \"Device3\"]\n",
        "\n",
        "NUM_TRAIN_DATA = 10000\n",
        "NUM_VAL_DATA = 1000\n",
        "NUM_TEST_DATA = 500\n",
        "\n",
        "all_python = True\n",
        "\n",
        "if all_python:\n",
        "    training_data, training_labels = generate_data(NUM_TRAIN_DATA, SEEDS)\n",
        "    validation_data, validation_labels = generate_data(NUM_VAL_DATA, SEEDS)\n",
        "    test_data, test_labels = generate_data(NUM_TEST_DATA, SEEDS)\n",
        "else:\n",
        "    training_data, training_labels = read_items(\"training_data.txt\", \"training_labels.txt\")\n",
        "    validation_data, validation_labels = read_items(\"validation_data.txt\", \"validation_labels.txt\")\n",
        "    test_data, test_labels = read_items(\"test_data.txt\", \"test_labels.txt\")"
      ]
    },
    {
      "cell_type": "code",
      "execution_count": null,
      "metadata": {
        "colab": {
          "base_uri": "https://localhost:8080/"
        },
        "id": "1l_kKzR4VhsC",
        "outputId": "4dd7e7c1-8ac5-4748-dc35-d6b7c5f624e9"
      },
      "outputs": [
        {
          "output_type": "stream",
          "name": "stdout",
          "text": [
            "Size of training data is  (10000, 64)\n",
            "Size of validation data is  (1000, 64)\n",
            "Size of test data is  (500, 64)\n"
          ]
        }
      ],
      "source": [
        "is_2d = False\n",
        "\n",
        "if is_2d:\n",
        "    training_data = np.reshape(training_data, (training_data.shape[0], training_data.shape[1], training_data.shape[2], 1))\n",
        "    validation_data = np.reshape(validation_data, (validation_data.shape[0], validation_data.shape[1], validation_data.shape[2], 1))\n",
        "    test_data = np.reshape(test_data, (test_data.shape[0], test_data.shape[1], test_data.shape[2], 1))\n",
        "else:\n",
        "    training_data = np.reshape(training_data, (training_data.shape[0], training_data.shape[1] * training_data.shape[2]))\n",
        "    validation_data = np.reshape(validation_data, (validation_data.shape[0], validation_data.shape[1] * validation_data.shape[2]))\n",
        "    test_data = np.reshape(test_data, (test_data.shape[0], test_data.shape[1] * test_data.shape[2],))\n",
        "\n",
        "print(\"Size of training data is \", np.shape(training_data))\n",
        "print(\"Size of validation data is \", np.shape(validation_data))\n",
        "print(\"Size of test data is \", np.shape(test_data))"
      ]
    },
    {
      "cell_type": "code",
      "execution_count": null,
      "metadata": {
        "colab": {
          "base_uri": "https://localhost:8080/"
        },
        "id": "0WY77eGQ6Axt",
        "outputId": "4176b914-55da-41ef-c0a4-4ca06b193010"
      },
      "outputs": [
        {
          "output_type": "stream",
          "name": "stdout",
          "text": [
            "Model: \"sequential_17\"\n",
            "_________________________________________________________________\n",
            " Layer (type)                Output Shape              Param #   \n",
            "=================================================================\n",
            " dense_42 (Dense)            (None, 200)               13000     \n",
            "                                                                 \n",
            " dropout_1 (Dropout)         (None, 200)               0         \n",
            "                                                                 \n",
            " dense_43 (Dense)            (None, 4)                 804       \n",
            "                                                                 \n",
            "=================================================================\n",
            "Total params: 13804 (53.92 KB)\n",
            "Trainable params: 13804 (53.92 KB)\n",
            "Non-trainable params: 0 (0.00 Byte)\n",
            "_________________________________________________________________\n",
            "Epoch 1/10\n",
            "1000/1000 [==============================] - 4s 3ms/step - loss: 1.6795 - accuracy: 0.2422 - val_loss: 1.3905 - val_accuracy: 0.2580\n",
            "Epoch 2/10\n",
            "1000/1000 [==============================] - 3s 3ms/step - loss: 1.3900 - accuracy: 0.2552 - val_loss: 1.3856 - val_accuracy: 0.2330\n",
            "Epoch 3/10\n",
            "1000/1000 [==============================] - 3s 3ms/step - loss: 1.3880 - accuracy: 0.2584 - val_loss: 1.3920 - val_accuracy: 0.2450\n",
            "Epoch 4/10\n",
            "1000/1000 [==============================] - 4s 4ms/step - loss: 1.3863 - accuracy: 0.2578 - val_loss: 1.3870 - val_accuracy: 0.2440\n",
            "Epoch 5/10\n",
            "1000/1000 [==============================] - 3s 3ms/step - loss: 1.3871 - accuracy: 0.2615 - val_loss: 1.3952 - val_accuracy: 0.2500\n",
            "Epoch 6/10\n",
            "1000/1000 [==============================] - 3s 3ms/step - loss: 1.3830 - accuracy: 0.2613 - val_loss: 1.3870 - val_accuracy: 0.2600\n",
            "Epoch 7/10\n",
            "1000/1000 [==============================] - 3s 3ms/step - loss: 1.3827 - accuracy: 0.2677 - val_loss: 1.3869 - val_accuracy: 0.2410\n",
            "Epoch 8/10\n",
            "1000/1000 [==============================] - 3s 3ms/step - loss: 1.3823 - accuracy: 0.2640 - val_loss: 1.3925 - val_accuracy: 0.2700\n",
            "Epoch 9/10\n",
            "1000/1000 [==============================] - 3s 3ms/step - loss: 1.3800 - accuracy: 0.2740 - val_loss: 1.3896 - val_accuracy: 0.2210\n",
            "Epoch 10/10\n",
            "1000/1000 [==============================] - 3s 3ms/step - loss: 1.3765 - accuracy: 0.2723 - val_loss: 1.3937 - val_accuracy: 0.2590\n"
          ]
        }
      ],
      "source": [
        "if is_2d:\n",
        "    model = Sequential([\n",
        "        Conv2D(6, (3, 3), activation='relu', input_shape=training_data.shape[1:]),\n",
        "        MaxPool2D(2, 2),\n",
        "        Flatten(),\n",
        "        Dense(50, activation='relu'),\n",
        "        Dense(len(SEEDS), activation='softmax')\n",
        "    ])\n",
        "else:\n",
        "    model = Sequential([\n",
        "        Dense(200, activation='relu', input_shape=training_data.shape[1:]),\n",
        "        Dropout(.3),\n",
        "        #Dense(20, activation='relu'),\n",
        "        Dense(len(SEEDS), activation='softmax')\n",
        "    ])\n",
        "\n",
        "model.summary()\n",
        "model.compile(optimizer='adam', loss='sparse_categorical_crossentropy', metrics=['accuracy'])\n",
        "history_2 = model.fit(training_data, training_labels, validation_data=(validation_data, validation_labels), batch_size=10, epochs=10)"
      ]
    },
    {
      "cell_type": "code",
      "execution_count": null,
      "metadata": {
        "colab": {
          "base_uri": "https://localhost:8080/",
          "height": 472
        },
        "id": "jiWYci2QmeaV",
        "outputId": "5ed1de47-6436-4a2e-d151-ca5741556230"
      },
      "outputs": [
        {
          "output_type": "display_data",
          "data": {
            "text/plain": [
              "<Figure size 640x480 with 1 Axes>"
            ],
            "image/png": "[encoded data removed]"
          },
          "metadata": {}
        }
      ],
      "source": [
        "# ploting the learning curves\n",
        "pyplot.title('Learning Curves')\n",
        "pyplot.xlabel('Epochs')\n",
        "pyplot.ylabel('Accuracy')\n",
        "pyplot.plot(history_2.history['accuracy'], label='train')\n",
        "pyplot.plot(history_2.history['val_accuracy'], label='val')\n",
        "pyplot.legend()\n",
        "pyplot.show()"
      ]
    },
    {
      "cell_type": "code",
      "execution_count": null,
      "metadata": {
        "colab": {
          "base_uri": "https://localhost:8080/"
        },
        "id": "PO72iHi0mgwt",
        "outputId": "20ec4300-b513-45ca-dd07-134420cbec98"
      },
      "outputs": [
        {
          "name": "stdout",
          "output_type": "stream",
          "text": [
            "Accuracy: 28.999999165534973\n"
          ]
        }
      ],
      "source": [
        "# evaluate the model\n",
        "loss, accuracy = model.evaluate(test_data, test_labels, verbose=0)\n",
        "print(f'Accuracy: {accuracy*100}')"
      ]
    },
    {
      "cell_type": "code",
      "execution_count": null,
      "metadata": {
        "colab": {
          "base_uri": "https://localhost:8080/"
        },
        "id": "bo1YVN0Rmin-",
        "outputId": "77fe1eae-633c-40c6-f729-1ba706fd6373"
      },
      "outputs": [
        {
          "name": "stdout",
          "output_type": "stream",
          "text": [
            "Predicted label: 0 - Actual label: [0]\n",
            "Predicted label: 1 - Actual label: [3]\n",
            "Predicted label: 3 - Actual label: [1]\n",
            "Predicted label: 1 - Actual label: [0]\n",
            "Predicted label: 3 - Actual label: [1]\n",
            "Predicted label: 1 - Actual label: [3]\n",
            "Predicted label: 1 - Actual label: [1]\n",
            "Predicted label: 3 - Actual label: [0]\n",
            "Predicted label: 3 - Actual label: [3]\n",
            "Predicted label: 1 - Actual label: [2]\n",
            "Predicted label: 2 - Actual label: [1]\n",
            "Predicted label: 0 - Actual label: [0]\n",
            "Predicted label: 3 - Actual label: [1]\n",
            "Predicted label: 0 - Actual label: [0]\n",
            "Predicted label: 2 - Actual label: [0]\n",
            "Predicted label: 2 - Actual label: [2]\n",
            "Predicted label: 0 - Actual label: [1]\n",
            "Predicted label: 2 - Actual label: [1]\n",
            "Predicted label: 3 - Actual label: [0]\n",
            "Predicted label: 1 - Actual label: [2]\n",
            "Predicted label: 1 - Actual label: [0]\n",
            "Predicted label: 2 - Actual label: [2]\n",
            "Predicted label: 2 - Actual label: [0]\n",
            "Predicted label: 3 - Actual label: [1]\n",
            "Predicted label: 1 - Actual label: [3]\n",
            "Predicted label: 3 - Actual label: [3]\n",
            "Predicted label: 1 - Actual label: [3]\n",
            "Predicted label: 2 - Actual label: [1]\n",
            "Predicted label: 3 - Actual label: [0]\n",
            "Predicted label: 3 - Actual label: [3]\n",
            "Predicted label: 2 - Actual label: [2]\n",
            "Predicted label: 1 - Actual label: [0]\n",
            "Predicted label: 1 - Actual label: [2]\n",
            "Predicted label: 0 - Actual label: [2]\n",
            "Predicted label: 1 - Actual label: [0]\n",
            "Predicted label: 0 - Actual label: [2]\n",
            "Predicted label: 1 - Actual label: [1]\n",
            "Predicted label: 2 - Actual label: [0]\n",
            "Predicted label: 0 - Actual label: [1]\n",
            "Predicted label: 1 - Actual label: [0]\n",
            "Predicted label: 2 - Actual label: [2]\n",
            "Predicted label: 1 - Actual label: [1]\n",
            "Predicted label: 1 - Actual label: [1]\n",
            "Predicted label: 0 - Actual label: [0]\n",
            "Predicted label: 2 - Actual label: [0]\n",
            "Predicted label: 3 - Actual label: [0]\n",
            "Predicted label: 1 - Actual label: [3]\n",
            "Predicted label: 1 - Actual label: [2]\n",
            "Predicted label: 1 - Actual label: [2]\n",
            "Predicted label: 0 - Actual label: [1]\n",
            "Predicted label: 0 - Actual label: [0]\n",
            "Predicted label: 2 - Actual label: [0]\n",
            "Predicted label: 3 - Actual label: [0]\n",
            "Predicted label: 3 - Actual label: [1]\n",
            "Predicted label: 0 - Actual label: [3]\n",
            "Predicted label: 0 - Actual label: [2]\n",
            "Predicted label: 1 - Actual label: [0]\n",
            "Predicted label: 2 - Actual label: [2]\n",
            "Predicted label: 2 - Actual label: [1]\n",
            "Predicted label: 1 - Actual label: [0]\n",
            "Predicted label: 3 - Actual label: [0]\n",
            "Predicted label: 0 - Actual label: [3]\n",
            "Predicted label: 0 - Actual label: [2]\n",
            "Predicted label: 0 - Actual label: [2]\n",
            "Predicted label: 1 - Actual label: [3]\n",
            "Predicted label: 2 - Actual label: [1]\n",
            "Predicted label: 3 - Actual label: [2]\n",
            "Predicted label: 0 - Actual label: [3]\n",
            "Predicted label: 2 - Actual label: [2]\n",
            "Predicted label: 3 - Actual label: [0]\n",
            "Predicted label: 3 - Actual label: [1]\n",
            "Predicted label: 0 - Actual label: [0]\n",
            "Predicted label: 3 - Actual label: [0]\n",
            "Predicted label: 1 - Actual label: [3]\n",
            "Predicted label: 1 - Actual label: [0]\n",
            "Predicted label: 3 - Actual label: [2]\n",
            "Predicted label: 0 - Actual label: [2]\n",
            "Predicted label: 0 - Actual label: [2]\n",
            "Predicted label: 3 - Actual label: [3]\n",
            "Predicted label: 2 - Actual label: [3]\n",
            "Predicted label: 1 - Actual label: [1]\n",
            "Predicted label: 2 - Actual label: [1]\n",
            "Predicted label: 1 - Actual label: [0]\n",
            "Predicted label: 0 - Actual label: [3]\n",
            "Predicted label: 1 - Actual label: [3]\n",
            "Predicted label: 3 - Actual label: [1]\n",
            "Predicted label: 1 - Actual label: [1]\n",
            "Predicted label: 1 - Actual label: [0]\n",
            "Predicted label: 1 - Actual label: [1]\n",
            "Predicted label: 1 - Actual label: [3]\n",
            "Predicted label: 0 - Actual label: [2]\n",
            "Predicted label: 2 - Actual label: [2]\n",
            "Predicted label: 3 - Actual label: [0]\n",
            "Predicted label: 0 - Actual label: [2]\n",
            "Predicted label: 0 - Actual label: [2]\n",
            "Predicted label: 0 - Actual label: [3]\n",
            "Predicted label: 0 - Actual label: [2]\n",
            "Predicted label: 0 - Actual label: [3]\n",
            "Predicted label: 1 - Actual label: [3]\n",
            "Predicted label: 0 - Actual label: [1]\n"
          ]
        }
      ],
      "source": [
        "for index in range(len(test_data)):\n",
        "  prediction = model.predict([np.expand_dims(test_data[index], axis=0)], verbose = 0)\n",
        "  print('Predicted label: {} - Actual label: {}'.format(argmax(prediction), test_labels[index]))"
      ]
    },
    {
      "cell_type": "code",
      "execution_count": null,
      "metadata": {
        "colab": {
          "base_uri": "https://localhost:8080/"
        },
        "id": "Ipu1wfi4kLSQ",
        "outputId": "b5698cd3-8192-40c8-8cf0-ab22b24b5d98"
      },
      "outputs": [
        {
          "name": "stdout",
          "output_type": "stream",
          "text": [
            "Collecting tinymlgen\n",
            "  Downloading tinymlgen-0.2.tar.gz (1.5 kB)\n",
            "  Preparing metadata (setup.py) ... \u001b[?25l\u001b[?25hdone\n",
            "Requirement already satisfied: tensorflow in /usr/local/lib/python3.10/dist-packages (from tinymlgen) (2.15.0)\n",
            "Collecting hexdump (from tinymlgen)\n",
            "  Downloading hexdump-3.3.zip (12 kB)\n",
            "  Preparing metadata (setup.py) ... \u001b[?25l\u001b[?25hdone\n",
            "Requirement already satisfied: absl-py>=1.0.0 in /usr/local/lib/python3.10/dist-packages (from tensorflow->tinymlgen) (1.4.0)\n",
            "Requirement already satisfied: astunparse>=1.6.0 in /usr/local/lib/python3.10/dist-packages (from tensorflow->tinymlgen) (1.6.3)\n",
            "Requirement already satisfied: flatbuffers>=23.5.26 in /usr/local/lib/python3.10/dist-packages (from tensorflow->tinymlgen) (23.5.26)\n",
            "Requirement already satisfied: gast!=0.5.0,!=0.5.1,!=0.5.2,>=0.2.1 in /usr/local/lib/python3.10/dist-packages (from tensorflow->tinymlgen) (0.5.4)\n",
            "Requirement already satisfied: google-pasta>=0.1.1 in /usr/local/lib/python3.10/dist-packages (from tensorflow->tinymlgen) (0.2.0)\n",
            "Requirement already satisfied: h5py>=2.9.0 in /usr/local/lib/python3.10/dist-packages (from tensorflow->tinymlgen) (3.9.0)\n",
            "Requirement already satisfied: libclang>=13.0.0 in /usr/local/lib/python3.10/dist-packages (from tensorflow->tinymlgen) (16.0.6)\n",
            "Requirement already satisfied: ml-dtypes~=0.2.0 in /usr/local/lib/python3.10/dist-packages (from tensorflow->tinymlgen) (0.2.0)\n",
            "Requirement already satisfied: numpy<2.0.0,>=1.23.5 in /usr/local/lib/python3.10/dist-packages (from tensorflow->tinymlgen) (1.23.5)\n",
            "Requirement already satisfied: opt-einsum>=2.3.2 in /usr/local/lib/python3.10/dist-packages (from tensorflow->tinymlgen) (3.3.0)\n",
            "Requirement already satisfied: packaging in /usr/local/lib/python3.10/dist-packages (from tensorflow->tinymlgen) (23.2)\n",
            "Requirement already satisfied: protobuf!=4.21.0,!=4.21.1,!=4.21.2,!=4.21.3,!=4.21.4,!=4.21.5,<5.0.0dev,>=3.20.3 in /usr/local/lib/python3.10/dist-packages (from tensorflow->tinymlgen) (3.20.3)\n",
            "Requirement already satisfied: setuptools in /usr/local/lib/python3.10/dist-packages (from tensorflow->tinymlgen) (67.7.2)\n",
            "Requirement already satisfied: six>=1.12.0 in /usr/local/lib/python3.10/dist-packages (from tensorflow->tinymlgen) (1.16.0)\n",
            "Requirement already satisfied: termcolor>=1.1.0 in /usr/local/lib/python3.10/dist-packages (from tensorflow->tinymlgen) (2.4.0)\n",
            "Requirement already satisfied: typing-extensions>=3.6.6 in /usr/local/lib/python3.10/dist-packages (from tensorflow->tinymlgen) (4.5.0)\n",
            "Requirement already satisfied: wrapt<1.15,>=1.11.0 in /usr/local/lib/python3.10/dist-packages (from tensorflow->tinymlgen) (1.14.1)\n",
            "Requirement already satisfied: tensorflow-io-gcs-filesystem>=0.23.1 in /usr/local/lib/python3.10/dist-packages (from tensorflow->tinymlgen) (0.34.0)\n",
            "Requirement already satisfied: grpcio<2.0,>=1.24.3 in /usr/local/lib/python3.10/dist-packages (from tensorflow->tinymlgen) (1.60.0)\n",
            "Requirement already satisfied: tensorboard<2.16,>=2.15 in /usr/local/lib/python3.10/dist-packages (from tensorflow->tinymlgen) (2.15.1)\n",
            "Requirement already satisfied: tensorflow-estimator<2.16,>=2.15.0 in /usr/local/lib/python3.10/dist-packages (from tensorflow->tinymlgen) (2.15.0)\n",
            "Requirement already satisfied: keras<2.16,>=2.15.0 in /usr/local/lib/python3.10/dist-packages (from tensorflow->tinymlgen) (2.15.0)\n",
            "Requirement already satisfied: wheel<1.0,>=0.23.0 in /usr/local/lib/python3.10/dist-packages (from astunparse>=1.6.0->tensorflow->tinymlgen) (0.42.0)\n",
            "Requirement already satisfied: google-auth<3,>=1.6.3 in /usr/local/lib/python3.10/dist-packages (from tensorboard<2.16,>=2.15->tensorflow->tinymlgen) (2.17.3)\n",
            "Requirement already satisfied: google-auth-oauthlib<2,>=0.5 in /usr/local/lib/python3.10/dist-packages (from tensorboard<2.16,>=2.15->tensorflow->tinymlgen) (1.2.0)\n",
            "Requirement already satisfied: markdown>=2.6.8 in /usr/local/lib/python3.10/dist-packages (from tensorboard<2.16,>=2.15->tensorflow->tinymlgen) (3.5.1)\n",
            "Requirement already satisfied: requests<3,>=2.21.0 in /usr/local/lib/python3.10/dist-packages (from tensorboard<2.16,>=2.15->tensorflow->tinymlgen) (2.31.0)\n",
            "Requirement already satisfied: tensorboard-data-server<0.8.0,>=0.7.0 in /usr/local/lib/python3.10/dist-packages (from tensorboard<2.16,>=2.15->tensorflow->tinymlgen) (0.7.2)\n",
            "Requirement already satisfied: werkzeug>=1.0.1 in /usr/local/lib/python3.10/dist-packages (from tensorboard<2.16,>=2.15->tensorflow->tinymlgen) (3.0.1)\n",
            "Requirement already satisfied: cachetools<6.0,>=2.0.0 in /usr/local/lib/python3.10/dist-packages (from google-auth<3,>=1.6.3->tensorboard<2.16,>=2.15->tensorflow->tinymlgen) (5.3.2)\n",
            "Requirement already satisfied: pyasn1-modules>=0.2.1 in /usr/local/lib/python3.10/dist-packages (from google-auth<3,>=1.6.3->tensorboard<2.16,>=2.15->tensorflow->tinymlgen) (0.3.0)\n",
            "Requirement already satisfied: rsa<5,>=3.1.4 in /usr/local/lib/python3.10/dist-packages (from google-auth<3,>=1.6.3->tensorboard<2.16,>=2.15->tensorflow->tinymlgen) (4.9)\n",
            "Requirement already satisfied: requests-oauthlib>=0.7.0 in /usr/local/lib/python3.10/dist-packages (from google-auth-oauthlib<2,>=0.5->tensorboard<2.16,>=2.15->tensorflow->tinymlgen) (1.3.1)\n",
            "Requirement already satisfied: charset-normalizer<4,>=2 in /usr/local/lib/python3.10/dist-packages (from requests<3,>=2.21.0->tensorboard<2.16,>=2.15->tensorflow->tinymlgen) (3.3.2)\n",
            "Requirement already satisfied: idna<4,>=2.5 in /usr/local/lib/python3.10/dist-packages (from requests<3,>=2.21.0->tensorboard<2.16,>=2.15->tensorflow->tinymlgen) (3.6)\n",
            "Requirement already satisfied: urllib3<3,>=1.21.1 in /usr/local/lib/python3.10/dist-packages (from requests<3,>=2.21.0->tensorboard<2.16,>=2.15->tensorflow->tinymlgen) (2.0.7)\n",
            "Requirement already satisfied: certifi>=2017.4.17 in /usr/local/lib/python3.10/dist-packages (from requests<3,>=2.21.0->tensorboard<2.16,>=2.15->tensorflow->tinymlgen) (2023.11.17)\n",
            "Requirement already satisfied: MarkupSafe>=2.1.1 in /usr/local/lib/python3.10/dist-packages (from werkzeug>=1.0.1->tensorboard<2.16,>=2.15->tensorflow->tinymlgen) (2.1.3)\n",
            "Requirement already satisfied: pyasn1<0.6.0,>=0.4.6 in /usr/local/lib/python3.10/dist-packages (from pyasn1-modules>=0.2.1->google-auth<3,>=1.6.3->tensorboard<2.16,>=2.15->tensorflow->tinymlgen) (0.5.1)\n",
            "Requirement already satisfied: oauthlib>=3.0.0 in /usr/local/lib/python3.10/dist-packages (from requests-oauthlib>=0.7.0->google-auth-oauthlib<2,>=0.5->tensorboard<2.16,>=2.15->tensorflow->tinymlgen) (3.2.2)\n",
            "Building wheels for collected packages: tinymlgen, hexdump\n",
            "  Building wheel for tinymlgen (setup.py) ... \u001b[?25l\u001b[?25hdone\n",
            "  Created wheel for tinymlgen: filename=tinymlgen-0.2-py3-none-any.whl size=2225 sha256=cdf3b5e7a715ed55469228c54b2c3020dc0cb9bc2a55004a57a76b3a9ceb8c40\n",
            "  Stored in directory: /root/.cache/pip/wheels/37/f6/60/b245c012a863872e10d737539c1e3f2db0499dfb6735f48494\n",
            "  Building wheel for hexdump (setup.py) ... \u001b[?25l\u001b[?25hdone\n",
            "  Created wheel for hexdump: filename=hexdump-3.3-py3-none-any.whl size=8894 sha256=ff5b71c561d48c6126c3719f80e9ce029abcafff4305e0d20d64e822a3eae171\n",
            "  Stored in directory: /root/.cache/pip/wheels/26/28/f7/f47d7ecd9ae44c4457e72c8bb617ef18ab332ee2b2a1047e87\n",
            "Successfully built tinymlgen hexdump\n",
            "Installing collected packages: hexdump, tinymlgen\n",
            "Successfully installed hexdump-3.3 tinymlgen-0.2\n"
          ]
        }
      ],
      "source": [
        "pip install tinymlgen"
      ]
    },
    {
      "cell_type": "code",
      "execution_count": null,
      "metadata": {
        "id": "AN_lEWxOCqJe"
      },
      "outputs": [],
      "source": [
        "from tinymlgen import port\n",
        "\n",
        "c_code = port(model, variable_name='model', pretty_print=True,optimize=False)\n",
        "filename = 'net.h'\n",
        "with open(filename,'w') as f:\n",
        "    f.write(c_code)"
      ]
    },
    {
      "cell_type": "code",
      "execution_count": null,
      "metadata": {
        "colab": {
          "base_uri": "https://localhost:8080/"
        },
        "id": "ImqR43-UFaD3",
        "outputId": "4aeea050-e8c9-4110-cb3f-deed25e6edfd"
      },
      "outputs": [
        {
          "data": {
            "text/plain": [
              "array([ 3, 11,  7, 13,  2,  7,  7,  8,  6, 15, 15, 15, 14, 12,  6,  2, 10,\n",
              "       14,  5,  1,  2,  0, 11,  8,  8,  4,  1, 13, 15,  7,  5,  2,  1, 13,\n",
              "       12,  9, 15,  6, 15, 11, 15,  0, 13, 12,  6, 10, 15,  2, 15,  5,  3,\n",
              "        2, 13,  2, 10,  3, 11, 13,  9, 15,  3,  4,  8,  4], dtype=uint32)"
            ]
          },
          "execution_count": 13,
          "metadata": {},
          "output_type": "execute_result"
        }
      ],
      "source": [
        "test_data[0].flatten()"
      ]
    }
  ],
  "metadata": {
    "colab": {
      "provenance": []
    },
    "kernelspec": {
      "display_name": "Python 3",
      "language": "python",
      "name": "python3"
    },
    "language_info": {
      "codemirror_mode": {
        "name": "ipython",
        "version": 3
      },
      "file_extension": ".py",
      "mimetype": "text/x-python",
      "name": "python",
      "nbconvert_exporter": "python",
      "pygments_lexer": "ipython3",
      "version": "3.7.12"
    }
  },
  "nbformat": 4,
  "nbformat_minor": 0
}