{
  "metadata": {
    "colab": {
      "provenance": []
    },
    "kernelspec": {
      "name": "python3",
      "display_name": "Python 3",
      "language": "python"
    },
    "language_info": {
      "name": "python",
      "version": "3.7.12",
      "mimetype": "text/x-python",
      "codemirror_mode": {
        "name": "ipython",
        "version": 3
      },
      "pygments_lexer": "ipython3",
      "nbconvert_exporter": "python",
      "file_extension": ".py"
    }
  },
  "nbformat_minor": 0,
  "nbformat": 4,
  "cells": [
    {
      "cell_type": "code",
      "source": [
        "import numpy as np\n",
        "from numpy import unique, argmax\n",
        "from tensorflow.keras import Sequential\n",
        "from tensorflow.keras.layers import Conv2D, MaxPool2D, Dense, Flatten, Dropout, Conv1D, MaxPool1D\n",
        "import tensorflow.keras as K\n",
        "from tensorflow.keras.utils import plot_model\n",
        "from matplotlib import pyplot\n",
        "import matplotlib.pyplot as plt\n",
        "\n",
        "import hashlib\n",
        "import time\n",
        "\n",
        "import random\n"
      ],
      "metadata": {
        "id": "gb89luZN4Ei3",
        "execution": {
          "iopub.status.busy": "2022-11-01T16:05:08.697961Z",
          "iopub.execute_input": "2022-11-01T16:05:08.698772Z",
          "iopub.status.idle": "2022-11-01T16:05:10.960972Z",
          "shell.execute_reply.started": "2022-11-01T16:05:08.698698Z",
          "shell.execute_reply": "2022-11-01T16:05:10.959564Z"
        },
        "trusted": true
      },
      "execution_count": null,
      "outputs": []
    },
    {
      "cell_type": "code",
      "source": [
        "pip install tinymlgen"
      ],
      "metadata": {
        "id": "5T0iTHur0AKn"
      },
      "execution_count": null,
      "outputs": []
    },
    {
      "cell_type": "code",
      "source": [
        "def generate_ephemeral_id(seed):\n",
        "    data = f\"{seed}{time.time()}\".encode('utf-8')\n",
        "    hash_object = hashlib.sha256(data)\n",
        "    ephemeral_id = hash_object.hexdigest()\n",
        "    return ephemeral_id\n",
        "\n",
        "\n",
        "def string_to_uint32_array(id):\n",
        "    flat_array = [int(id[i:i+1], 16) for i in range(0, len(id), 1)]\n",
        "    array_2d = np.array(flat_array).reshape(8, 8)\n",
        "    return array_2d"
      ],
      "metadata": {
        "id": "E3ojR1Yd-qe8"
      },
      "execution_count": 91,
      "outputs": []
    },
    {
      "cell_type": "code",
      "source": [
        "def generate_data(size: int, seeds):\n",
        "  data = np.empty([size, 8, 8], dtype=np.uint32)\n",
        "  labels = np.empty([size, 1], dtype=np.ubyte)\n",
        "\n",
        "  for data_index in range(size):\n",
        "    device_number = random.randint(0, len(seeds)-1)\n",
        "    labels[data_index] = device_number\n",
        "    ephemeral_id = generate_ephemeral_id(seeds[device_number])\n",
        "    data[data_index] = string_to_uint32_array(ephemeral_id)\n",
        "\n",
        "  return (data, labels)"
      ],
      "metadata": {
        "id": "S3OX5Ok_oJvo"
      },
      "execution_count": 92,
      "outputs": []
    },
    {
      "cell_type": "code",
      "source": [
        "SEEDS = [\"Device0\", \"Device1\", \"Device2\", \"Device3\", \"Device4\", \"Device5\", \"Device6\", \"Device7\"]\n",
        "\n",
        "NUM_TRAIN_DATA = 2000\n",
        "NUM_VAL_DATA = 300\n",
        "NUM_TEST_DATA = 100\n",
        "\n",
        "training_data, training_labels = generate_data(NUM_TRAIN_DATA, SEEDS)\n",
        "validation_data, validation_labels = generate_data(NUM_VAL_DATA, SEEDS)\n",
        "test_data, test_labels = generate_data(NUM_TEST_DATA, SEEDS)"
      ],
      "metadata": {
        "id": "0x8yuCqIovDy"
      },
      "execution_count": 93,
      "outputs": []
    },
    {
      "cell_type": "code",
      "source": [
        "training_data = np.reshape(training_data, (2000, 8, 8, 1))\n",
        "#training_data = training_data.reshape((-1, training_data.shape[0], training_data.shape[1], 1))\n",
        "print(\"Size of training data is \", np.shape(training_data))\n",
        "#validation_data = validation_data.reshape((-1, validation_data.shape[1], validation_data.shape[0], 1))\n",
        "validation_data = np.reshape(validation_data, (300, 8, 8, 1))\n",
        "print(\"Size of validation data is \", np.shape(validation_data))\n",
        "#test_data = test_data.reshape((-1, test_data.shape[1], test_data.shape[0], 1))\n",
        "test_data = np.reshape(test_data, (100, 8, 8, 1))\n",
        "print(\"Size of validation data is \", np.shape(test_data))"
      ],
      "metadata": {
        "colab": {
          "base_uri": "https://localhost:8080/"
        },
        "id": "1l_kKzR4VhsC",
        "outputId": "fb59d528-e9b7-4743-be0d-5773c3e1ee32"
      },
      "execution_count": 96,
      "outputs": [
        {
          "output_type": "stream",
          "name": "stdout",
          "text": [
            "Size of training data is  (2000, 8, 8, 1)\n",
            "Size of validation data is  (300, 8, 8, 1)\n",
            "Size of validation data is  (100, 8, 8, 1)\n"
          ]
        }
      ]
    },
    {
      "cell_type": "code",
      "source": [
        "#s = \"\"\n",
        "#for a in test_data:\n",
        "#  s += append(str(a))\n",
        "#s\n",
        "#print(np.fromstring(lst, dtype=np.uint32))\n",
        "\n",
        "#resultString = ', '.join(lst)\n",
        "#resultString\n",
        "#to_be_written = f\"char arr[{100}] = {{{array_joined_with_commas}}};"
      ],
      "metadata": {
        "id": "lV-8bP-i0a9v"
      },
      "execution_count": null,
      "outputs": []
    },
    {
      "cell_type": "code",
      "source": [
        "model = Sequential([\n",
        "    Conv2D(6, (3, 3), activation='relu', input_shape=training_data.shape[1:]),\n",
        "    #Dropout(0.5),\n",
        "    MaxPool2D(2, 2),\n",
        "    Flatten(),\n",
        "    Dense(10, activation='relu'),\n",
        "    Dense(len(SEEDS), activation='softmax')\n",
        "])\n",
        "\n",
        "model.summary()\n",
        "model.compile(optimizer='adam', loss='sparse_categorical_crossentropy', metrics=['accuracy'])\n",
        "history_2 = model.fit(training_data, training_labels, validation_data=(validation_data, validation_labels), batch_size=10, epochs=10)"
      ],
      "metadata": {
        "id": "0WY77eGQ6Axt",
        "execution": {
          "iopub.status.busy": "2022-11-01T16:05:12.589417Z",
          "iopub.execute_input": "2022-11-01T16:05:12.590216Z",
          "iopub.status.idle": "2022-11-01T16:05:12.683140Z",
          "shell.execute_reply.started": "2022-11-01T16:05:12.590166Z",
          "shell.execute_reply": "2022-11-01T16:05:12.682191Z"
        },
        "trusted": true
      },
      "execution_count": null,
      "outputs": []
    },
    {
      "cell_type": "code",
      "source": [
        "# ploting the learning curves\n",
        "pyplot.title('Learning Curves')\n",
        "pyplot.xlabel('Epochs')\n",
        "pyplot.ylabel('Accuracy')\n",
        "pyplot.plot(history_2.history['accuracy'], label='train')\n",
        "pyplot.plot(history_2.history['val_accuracy'], label='val')\n",
        "pyplot.legend()\n",
        "pyplot.show()"
      ],
      "metadata": {
        "id": "jiWYci2QmeaV",
        "execution": {
          "iopub.status.busy": "2022-11-01T16:05:17.100596Z",
          "iopub.execute_input": "2022-11-01T16:05:17.101039Z",
          "iopub.status.idle": "2022-11-01T16:05:17.374430Z",
          "shell.execute_reply.started": "2022-11-01T16:05:17.101001Z",
          "shell.execute_reply": "2022-11-01T16:05:17.373099Z"
        },
        "trusted": true,
        "colab": {
          "base_uri": "https://localhost:8080/",
          "height": 472
        },
        "outputId": "16d42420-d509-4103-88b2-baa50a4bfa92"
      },
      "execution_count": 90,
      "outputs": [
        {
          "output_type": "display_data",
          "data": {
            "text/plain": [
              "<Figure size 640x480 with 1 Axes>"
            ],
            "image/png": "[encoded data removed]"
          },
          "metadata": {}
        }
      ]
    },
    {
      "cell_type": "code",
      "source": [
        "# evaluate the model\n",
        "loss, accuracy = model.evaluate(test_data, test_labels, verbose=0)\n",
        "print(f'Accuracy: {accuracy*100}')"
      ],
      "metadata": {
        "id": "PO72iHi0mgwt",
        "execution": {
          "iopub.status.busy": "2022-11-01T16:05:17.375860Z",
          "iopub.execute_input": "2022-11-01T16:05:17.376205Z",
          "iopub.status.idle": "2022-11-01T16:05:17.465218Z",
          "shell.execute_reply.started": "2022-11-01T16:05:17.376175Z",
          "shell.execute_reply": "2022-11-01T16:05:17.463954Z"
        },
        "trusted": true,
        "colab": {
          "base_uri": "https://localhost:8080/"
        },
        "outputId": "9faa3eff-903b-478a-a074-0a67d53745d0"
      },
      "execution_count": null,
      "outputs": [
        {
          "output_type": "stream",
          "name": "stdout",
          "text": [
            "Accuracy: 18.000000715255737\n"
          ]
        }
      ]
    },
    {
      "cell_type": "code",
      "source": [
        "index = 3\n",
        "yhat = model.predict([np.expand_dims(test_data[index], axis=0)], verbose = 0)\n",
        "print('Predicted label: {}'.format(argmax(yhat)))\n",
        "print('Actual label: {}'.format(test_labels[index]))"
      ],
      "metadata": {
        "id": "bo1YVN0Rmin-",
        "execution": {
          "iopub.status.busy": "2022-11-01T16:05:17.466796Z",
          "iopub.execute_input": "2022-11-01T16:05:17.467165Z",
          "iopub.status.idle": "2022-11-01T16:05:17.693559Z",
          "shell.execute_reply.started": "2022-11-01T16:05:17.467131Z",
          "shell.execute_reply": "2022-11-01T16:05:17.692370Z"
        },
        "trusted": true,
        "colab": {
          "base_uri": "https://localhost:8080/"
        },
        "outputId": "5248b71a-766e-480d-c901-872a8045892b"
      },
      "execution_count": 118,
      "outputs": [
        {
          "output_type": "stream",
          "name": "stdout",
          "text": [
            "Predicted label: 3\n",
            "Actual label: [2]\n"
          ]
        }
      ]
    },
    {
      "cell_type": "code",
      "source": [
        "from tinymlgen import port\n",
        "\n",
        "c_code = port(model, variable_name='model', pretty_print=True,optimize=False)\n",
        "filename = 'net.h'\n",
        "with open(filename,'w') as f:\n",
        "    f.write(c_code)"
      ],
      "metadata": {
        "id": "AN_lEWxOCqJe"
      },
      "execution_count": 100,
      "outputs": []
    },
    {
      "cell_type": "code",
      "source": [
        "test_data[3].flatten()"
      ],
      "metadata": {
        "colab": {
          "base_uri": "https://localhost:8080/"
        },
        "id": "ImqR43-UFaD3",
        "outputId": "a1a44c8f-1b06-4f45-a3f1-70d8d8fe9eda"
      },
      "execution_count": 119,
      "outputs": [
        {
          "output_type": "execute_result",
          "data": {
            "text/plain": [
              "array([15, 12, 15,  2,  4, 15, 15,  3,  1,  8,  4,  5,  7,  2, 12, 11, 12,\n",
              "        6, 15, 15,  2,  0, 11,  5, 15,  1,  8,  4,  7,  2,  5,  7, 10, 10,\n",
              "        3,  1,  6, 13,  6,  0, 11,  2, 11,  9, 10,  1,  1,  9,  5,  7,  2,\n",
              "        1,  6,  5,  7,  3,  5,  3,  1,  2, 15,  8, 10,  0], dtype=uint32)"
            ]
          },
          "metadata": {},
          "execution_count": 119
        }
      ]
    },
    {
      "cell_type": "code",
      "source": [],
      "metadata": {
        "id": "it9UPGXKE9xQ"
      },
      "execution_count": null,
      "outputs": []
    }
  ]
}