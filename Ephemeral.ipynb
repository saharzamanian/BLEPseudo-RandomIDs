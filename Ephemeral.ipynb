{
  "metadata": {
    "colab": {
      "provenance": [],
      "include_colab_link": true
    },
    "kernelspec": {
      "name": "python3",
      "display_name": "Python 3",
      "language": "python"
    },
    "language_info": {
      "name": "python",
      "version": "3.7.12",
      "mimetype": "text/x-python",
      "codemirror_mode": {
        "name": "ipython",
        "version": 3
      },
      "pygments_lexer": "ipython3",
      "nbconvert_exporter": "python",
      "file_extension": ".py"
    }
  },
  "nbformat_minor": 0,
  "nbformat": 4,
  "cells": [
    {
      "cell_type": "markdown",
      "metadata": {
        "id": "view-in-github",
        "colab_type": "text"
      },
      "source": [
        "<a href=\"https://colab.research.google.com/github/saharzamanian/BLEPseudo-RandomIDs/blob/main/Ephemeral.ipynb\" target=\"_parent\"><img src=\"https://colab.research.google.com/assets/colab-badge.svg\" alt=\"Open In Colab\"/></a>"
      ]
    },
    {
      "cell_type": "code",
      "source": [
        "import numpy as np\n",
        "from numpy import unique, argmax\n",
        "from tensorflow.keras import Sequential\n",
        "from tensorflow.keras.layers import Conv2D, MaxPool2D, Dense, Flatten, Dropout, Conv1D, MaxPool1D\n",
        "import tensorflow.keras as K\n",
        "from tensorflow.keras.utils import plot_model\n",
        "from matplotlib import pyplot\n",
        "import matplotlib.pyplot as plt\n",
        "\n",
        "import hashlib\n",
        "import time\n",
        "\n",
        "import random"
      ],
      "metadata": {
        "id": "gb89luZN4Ei3",
        "execution": {
          "iopub.status.busy": "2022-11-01T16:05:08.697961Z",
          "iopub.execute_input": "2022-11-01T16:05:08.698772Z",
          "iopub.status.idle": "2022-11-01T16:05:10.960972Z",
          "shell.execute_reply.started": "2022-11-01T16:05:08.698698Z",
          "shell.execute_reply": "2022-11-01T16:05:10.959564Z"
        },
        "trusted": true
      },
      "execution_count": null,
      "outputs": []
    },
    {
      "cell_type": "code",
      "source": [
        "def generate_ephemeral_id(seed):\n",
        "    data = f\"{seed}{time.time()}\".encode('utf-8')\n",
        "    hash_object = hashlib.sha256(data)\n",
        "    ephemeral_id = hash_object.hexdigest()\n",
        "    return ephemeral_id\n",
        "\n",
        "\n",
        "def string_to_uint32_array(id):\n",
        "    return [int(id[i:i+8], 16) for i in range(0, len(id), 8)]"
      ],
      "metadata": {
        "id": "E3ojR1Yd-qe8"
      },
      "execution_count": null,
      "outputs": []
    },
    {
      "cell_type": "code",
      "source": [
        "def generate_data(size: int, seeds):\n",
        "  data = np.empty([size, 8], dtype=np.uint32)\n",
        "  labels = np.empty([size, 1], dtype=np.ubyte)\n",
        "\n",
        "  for data_index in range(size):\n",
        "    device_number = random.randint(0, len(seeds)-1)\n",
        "    labels[data_index] = device_number\n",
        "    ephemeral_id = generate_ephemeral_id(seeds[device_number])\n",
        "    data[data_index] = string_to_uint32_array(ephemeral_id)\n",
        "\n",
        "  return (data, labels)"
      ],
      "metadata": {
        "id": "S3OX5Ok_oJvo"
      },
      "execution_count": null,
      "outputs": []
    },
    {
      "cell_type": "code",
      "source": [
        "SEEDS = [\"Device0\", \"Device1\", \"Device2\", \"Device3\", \"Device4\", \"Device5\", \"Device6\", \"Device7\"]\n",
        "\n",
        "NUM_TRAIN_DATA = 2000\n",
        "NUM_VAL_DATA = 300\n",
        "NUM_TEST_DATA = 100\n",
        "\n",
        "training_data, training_labels = generate_data(NUM_TRAIN_DATA, SEEDS)\n",
        "validation_data, validation_labels = generate_data(NUM_VAL_DATA, SEEDS)\n",
        "test_data, test_labels = generate_data(NUM_TEST_DATA, SEEDS)"
      ],
      "metadata": {
        "id": "0x8yuCqIovDy"
      },
      "execution_count": null,
      "outputs": []
    },
    {
      "cell_type": "code",
      "source": [
        "training_data = training_data.reshape((-1, training_data.shape[1], 1))\n",
        "print(\"Size of training data is \", np.shape(training_data))\n",
        "validation_data = validation_data.reshape((-1, validation_data.shape[1], 1))\n",
        "print(\"Size of validation data is \", np.shape(validation_data))\n",
        "test_data = test_data.reshape((-1, test_data.shape[1], 1))\n",
        "print(\"Size of validation data is \", np.shape(test_data))"
      ],
      "metadata": {
        "colab": {
          "base_uri": "https://localhost:8080/"
        },
        "id": "1l_kKzR4VhsC",
        "outputId": "e783adff-5225-4248-9fa6-31cb73e59b9f"
      },
      "execution_count": null,
      "outputs": [
        {
          "output_type": "stream",
          "name": "stdout",
          "text": [
            "Size of training data is  (2000, 8, 1)\n",
            "Size of validation data is  (300, 8, 1)\n",
            "Size of validation data is  (100, 8, 1)\n"
          ]
        }
      ]
    },
    {
      "cell_type": "code",
      "source": [
        "model = Sequential([\n",
        "    Conv1D(16, 3, activation='relu', input_shape=training_data.shape[1:]),\n",
        "    Dropout(0.5),\n",
        "    MaxPool1D(2),\n",
        "    Flatten(),\n",
        "    #Dense(400, activation='relu', input_shape=training_data.shape[1:]),\n",
        "    Dense(len(SEEDS), activation='softmax')\n",
        "])\n",
        "\n",
        "model.summary()\n",
        "model.compile(optimizer='adam', loss='sparse_categorical_crossentropy', metrics=['accuracy'])\n",
        "history_2 = model.fit(training_data, training_labels, validation_data=(validation_data, validation_labels), batch_size=10, epochs=10)"
      ],
      "metadata": {
        "id": "0WY77eGQ6Axt",
        "execution": {
          "iopub.status.busy": "2022-11-01T16:05:12.589417Z",
          "iopub.execute_input": "2022-11-01T16:05:12.590216Z",
          "iopub.status.idle": "2022-11-01T16:05:12.683140Z",
          "shell.execute_reply.started": "2022-11-01T16:05:12.590166Z",
          "shell.execute_reply": "2022-11-01T16:05:12.682191Z"
        },
        "trusted": true,
        "colab": {
          "base_uri": "https://localhost:8080/"
        },
        "outputId": "051c63ea-023f-4059-e285-392030f6f144"
      },
      "execution_count": null,
      "outputs": [
        {
          "output_type": "stream",
          "name": "stdout",
          "text": [
            "Model: \"sequential_1\"\n",
            "_________________________________________________________________\n",
            " Layer (type)                Output Shape              Param #   \n",
            "=================================================================\n",
            " conv1d_1 (Conv1D)           (None, 6, 16)             64        \n",
            "                                                                 \n",
            " dropout_1 (Dropout)         (None, 6, 16)             0         \n",
            "                                                                 \n",
            " max_pooling1d_1 (MaxPoolin  (None, 3, 16)             0         \n",
            " g1D)                                                            \n",
            "                                                                 \n",
            " flatten_1 (Flatten)         (None, 48)                0         \n",
            "                                                                 \n",
            " dense_1 (Dense)             (None, 8)                 392       \n",
            "                                                                 \n",
            "=================================================================\n",
            "Total params: 456 (1.78 KB)\n",
            "Trainable params: 456 (1.78 KB)\n",
            "Non-trainable params: 0 (0.00 Byte)\n",
            "_________________________________________________________________\n",
            "Epoch 1/10\n",
            "200/200 [==============================] - 2s 4ms/step - loss: 900628352.0000 - accuracy: 0.1240 - val_loss: 210409856.0000 - val_accuracy: 0.1567\n",
            "Epoch 2/10\n",
            "200/200 [==============================] - 1s 3ms/step - loss: 322865568.0000 - accuracy: 0.1295 - val_loss: 80676344.0000 - val_accuracy: 0.1067\n",
            "Epoch 3/10\n",
            "200/200 [==============================] - 1s 3ms/step - loss: 54404688.0000 - accuracy: 0.1245 - val_loss: 9202045.0000 - val_accuracy: 0.1100\n",
            "Epoch 4/10\n",
            "200/200 [==============================] - 1s 3ms/step - loss: 6826659.5000 - accuracy: 0.1260 - val_loss: 2293046.7500 - val_accuracy: 0.1367\n",
            "Epoch 5/10\n",
            "200/200 [==============================] - 0s 2ms/step - loss: 1805921.7500 - accuracy: 0.1225 - val_loss: 650206.1875 - val_accuracy: 0.1333\n",
            "Epoch 6/10\n",
            "200/200 [==============================] - 0s 2ms/step - loss: 565820.0625 - accuracy: 0.1185 - val_loss: 194218.5781 - val_accuracy: 0.1133\n",
            "Epoch 7/10\n",
            "200/200 [==============================] - 0s 2ms/step - loss: 262077.4375 - accuracy: 0.1290 - val_loss: 50807.0859 - val_accuracy: 0.1100\n",
            "Epoch 8/10\n",
            "200/200 [==============================] - 0s 2ms/step - loss: 107029.4531 - accuracy: 0.1215 - val_loss: 12192.5752 - val_accuracy: 0.1167\n",
            "Epoch 9/10\n",
            "200/200 [==============================] - 0s 2ms/step - loss: 72108.9219 - accuracy: 0.1180 - val_loss: 4284.7944 - val_accuracy: 0.1167\n",
            "Epoch 10/10\n",
            "200/200 [==============================] - 0s 2ms/step - loss: 38841.7617 - accuracy: 0.1175 - val_loss: 1442.9480 - val_accuracy: 0.1233\n"
          ]
        }
      ]
    },
    {
      "cell_type": "code",
      "source": [
        "# ploting the learning curves\n",
        "pyplot.title('Learning Curves')\n",
        "pyplot.xlabel('Epochs')\n",
        "pyplot.ylabel('Accuracy')\n",
        "pyplot.plot(history_2.history['accuracy'], label='train')\n",
        "pyplot.plot(history_2.history['val_accuracy'], label='val')\n",
        "pyplot.legend()\n",
        "pyplot.show()"
      ],
      "metadata": {
        "id": "jiWYci2QmeaV",
        "execution": {
          "iopub.status.busy": "2022-11-01T16:05:17.100596Z",
          "iopub.execute_input": "2022-11-01T16:05:17.101039Z",
          "iopub.status.idle": "2022-11-01T16:05:17.374430Z",
          "shell.execute_reply.started": "2022-11-01T16:05:17.101001Z",
          "shell.execute_reply": "2022-11-01T16:05:17.373099Z"
        },
        "trusted": true,
        "colab": {
          "base_uri": "https://localhost:8080/",
          "height": 472
        },
        "outputId": "6226f0c9-af41-4c1d-e130-8de6a334317b"
      },
      "execution_count": null,
      "outputs": [
        {
          "output_type": "display_data",
          "data": {
            "text/plain": [
              "<Figure size 640x480 with 1 Axes>"
            ],
            "image/png": "[encoded data removed]"
          },
          "metadata": {}
        }
      ]
    },
    {
      "cell_type": "code",
      "source": [
        "# evaluate the model\n",
        "loss, accuracy = model.evaluate(test_data, test_labels, verbose=0)\n",
        "print(f'Accuracy: {accuracy*100}')"
      ],
      "metadata": {
        "id": "PO72iHi0mgwt",
        "execution": {
          "iopub.status.busy": "2022-11-01T16:05:17.375860Z",
          "iopub.execute_input": "2022-11-01T16:05:17.376205Z",
          "iopub.status.idle": "2022-11-01T16:05:17.465218Z",
          "shell.execute_reply.started": "2022-11-01T16:05:17.376175Z",
          "shell.execute_reply": "2022-11-01T16:05:17.463954Z"
        },
        "trusted": true,
        "colab": {
          "base_uri": "https://localhost:8080/"
        },
        "outputId": "9faa3eff-903b-478a-a074-0a67d53745d0"
      },
      "execution_count": null,
      "outputs": [
        {
          "output_type": "stream",
          "name": "stdout",
          "text": [
            "Accuracy: 18.000000715255737\n"
          ]
        }
      ]
    },
    {
      "cell_type": "code",
      "source": [
        "index = 3\n",
        "yhat = model.predict([np.expand_dims(test_data[index], axis=0)], verbose = 0)\n",
        "print('Predicted label: {}'.format(argmax(yhat)))\n",
        "print('Actual label: {}'.format(test_labels[index]))"
      ],
      "metadata": {
        "id": "bo1YVN0Rmin-",
        "execution": {
          "iopub.status.busy": "2022-11-01T16:05:17.466796Z",
          "iopub.execute_input": "2022-11-01T16:05:17.467165Z",
          "iopub.status.idle": "2022-11-01T16:05:17.693559Z",
          "shell.execute_reply.started": "2022-11-01T16:05:17.467131Z",
          "shell.execute_reply": "2022-11-01T16:05:17.692370Z"
        },
        "trusted": true,
        "colab": {
          "base_uri": "https://localhost:8080/"
        },
        "outputId": "03e662e2-c0ac-4291-f513-e4a83d665717"
      },
      "execution_count": null,
      "outputs": [
        {
          "output_type": "stream",
          "name": "stdout",
          "text": [
            "Predicted label: 3\n",
            "Actual label: [1]\n"
          ]
        }
      ]
    }
  ]
}