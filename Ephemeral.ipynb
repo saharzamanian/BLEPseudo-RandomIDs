{
  "metadata": {
    "colab": {
      "provenance": []
    },
    "kernelspec": {
      "name": "python3",
      "display_name": "Python 3",
      "language": "python"
    },
    "language_info": {
      "name": "python",
      "version": "3.7.12",
      "mimetype": "text/x-python",
      "codemirror_mode": {
        "name": "ipython",
        "version": 3
      },
      "pygments_lexer": "ipython3",
      "nbconvert_exporter": "python",
      "file_extension": ".py"
    }
  },
  "nbformat_minor": 0,
  "nbformat": 4,
  "cells": [
    {
      "cell_type": "code",
      "source": [
        "import numpy as np\n",
        "from numpy import unique, argmax\n",
        "from tensorflow.keras import Sequential\n",
        "from tensorflow.keras.layers import Conv2D, MaxPool2D, Dense, Flatten, Dropout, Conv1D, MaxPool1D\n",
        "import tensorflow.keras as K\n",
        "from tensorflow.keras.utils import plot_model\n",
        "from matplotlib import pyplot\n",
        "import matplotlib.pyplot as plt\n",
        "\n",
        "import hashlib\n",
        "import time\n",
        "\n",
        "import random"
      ],
      "metadata": {
        "id": "gb89luZN4Ei3",
        "execution": {
          "iopub.status.busy": "2022-11-01T16:05:08.697961Z",
          "iopub.execute_input": "2022-11-01T16:05:08.698772Z",
          "iopub.status.idle": "2022-11-01T16:05:10.960972Z",
          "shell.execute_reply.started": "2022-11-01T16:05:08.698698Z",
          "shell.execute_reply": "2022-11-01T16:05:10.959564Z"
        },
        "trusted": true
      },
      "execution_count": 113,
      "outputs": []
    },
    {
      "cell_type": "code",
      "source": [
        "def read_items(data_file_name, label_file_name):\n",
        "  with open(data_file_name) as f:\n",
        "      lines = f.read().splitlines()\n",
        "      data = np.empty([len(lines), 8, 8], dtype=np.uint32)\n",
        "      for index, item in enumerate(lines):\n",
        "          item = f'{item:064}'\n",
        "          ephemeral_id = string_to_uint32_array(item)\n",
        "          data[index] = ephemeral_id\n",
        "\n",
        "  with open(label_file_name) as f:\n",
        "      labels = f.read().splitlines()\n",
        "  labels = [int(i) for i in labels]\n",
        "  labels = np.asarray(labels)\n",
        "  labels = labels.reshape(len(labels), 1)\n",
        "\n",
        "  return data, labels"
      ],
      "metadata": {
        "id": "wQnfmYrjhtkQ"
      },
      "execution_count": 114,
      "outputs": []
    },
    {
      "cell_type": "code",
      "source": [
        "def generate_ephemeral_id(seed):\n",
        "    data = f\"{seed}{time.time()}\".encode('utf-8')\n",
        "    hash_object = hashlib.sha256(data)\n",
        "    ephemeral_id = hash_object.hexdigest()\n",
        "    return ephemeral_id\n",
        "\n",
        "\n",
        "def string_to_uint32_array(id):\n",
        "    flat_array = [int(id[i:i+1], 16) for i in range(0, len(id), 1)]\n",
        "    array_2d = np.array(flat_array).reshape(8, 8)\n",
        "    return array_2d"
      ],
      "metadata": {
        "id": "E3ojR1Yd-qe8"
      },
      "execution_count": 115,
      "outputs": []
    },
    {
      "cell_type": "code",
      "source": [
        "def generate_data(size: int, seeds):\n",
        "  data = np.empty([size, 8, 8], dtype=np.uint32)\n",
        "  labels = np.empty([size, 1], dtype=np.ubyte)\n",
        "\n",
        "  for data_index in range(size):\n",
        "    device_number = random.randint(0, len(seeds)-1)\n",
        "    labels[data_index] = device_number\n",
        "    ephemeral_id = generate_ephemeral_id(seeds[device_number])\n",
        "    data[data_index] = string_to_uint32_array(ephemeral_id)\n",
        "\n",
        "  return (data, labels)"
      ],
      "metadata": {
        "id": "S3OX5Ok_oJvo"
      },
      "execution_count": 116,
      "outputs": []
    },
    {
      "cell_type": "code",
      "source": [
        "SEEDS = [\"Device0\", \"Device1\", \"Device2\", \"Device3\"]\n",
        "\n",
        "NUM_TRAIN_DATA = 2000\n",
        "NUM_VAL_DATA = 300\n",
        "NUM_TEST_DATA = 100\n",
        "\n",
        "all_python = False\n",
        "\n",
        "if all_python:\n",
        "    training_data, training_labels = generate_data(NUM_TRAIN_DATA, SEEDS)\n",
        "    validation_data, validation_labels = generate_data(NUM_VAL_DATA, SEEDS)\n",
        "    test_data, test_labels = generate_data(NUM_TEST_DATA, SEEDS)\n",
        "else:\n",
        "    training_data, training_labels = read_items(\"training_data.txt\", \"training_labels.txt\")\n",
        "    validation_data, validation_labels = read_items(\"validation_data.txt\", \"validation_labels.txt\")\n",
        "    test_data, test_labels = read_items(\"test_data.txt\", \"test_labels.txt\")"
      ],
      "metadata": {
        "id": "0x8yuCqIovDy"
      },
      "execution_count": 117,
      "outputs": []
    },
    {
      "cell_type": "code",
      "source": [
        "training_data = np.reshape(training_data, (training_data.shape[0], training_data.shape[1], training_data.shape[2], 1))\n",
        "validation_data = np.reshape(validation_data, (validation_data.shape[0], validation_data.shape[1], validation_data.shape[2], 1))\n",
        "test_data = np.reshape(test_data, (test_data.shape[0], test_data.shape[1], test_data.shape[2], 1))\n",
        "\n",
        "print(\"Size of training data is \", np.shape(training_data))\n",
        "print(\"Size of validation data is \", np.shape(validation_data))\n",
        "print(\"Size of test data is \", np.shape(test_data))"
      ],
      "metadata": {
        "colab": {
          "base_uri": "https://localhost:8080/"
        },
        "id": "1l_kKzR4VhsC",
        "outputId": "a4bd9324-32ce-4c8c-bba7-d3a97b080c87"
      },
      "execution_count": 118,
      "outputs": [
        {
          "output_type": "stream",
          "name": "stdout",
          "text": [
            "Size of training data is  (1000, 8, 8, 1)\n",
            "Size of validation data is  (300, 8, 8, 1)\n",
            "Size of test data is  (100, 8, 8, 1)\n"
          ]
        }
      ]
    },
    {
      "cell_type": "code",
      "source": [
        "model = Sequential([\n",
        "    Conv2D(6, (3, 3), activation='relu', input_shape=training_data.shape[1:]),\n",
        "    MaxPool2D(2, 2),\n",
        "    Flatten(),\n",
        "    Dense(50, activation='relu'),\n",
        "    Dense(len(SEEDS), activation='softmax')\n",
        "])\n",
        "\n",
        "model.summary()\n",
        "model.compile(optimizer='adam', loss='sparse_categorical_crossentropy', metrics=['accuracy'])\n",
        "history_2 = model.fit(training_data, training_labels, validation_data=(validation_data, validation_labels), batch_size=10, epochs=40)"
      ],
      "metadata": {
        "id": "0WY77eGQ6Axt",
        "execution": {
          "iopub.status.busy": "2022-11-01T16:05:12.589417Z",
          "iopub.execute_input": "2022-11-01T16:05:12.590216Z",
          "iopub.status.idle": "2022-11-01T16:05:12.683140Z",
          "shell.execute_reply.started": "2022-11-01T16:05:12.590166Z",
          "shell.execute_reply": "2022-11-01T16:05:12.682191Z"
        },
        "trusted": true,
        "colab": {
          "base_uri": "https://localhost:8080/"
        },
        "outputId": "ccc86490-778d-4b25-af0d-1245432afc8a"
      },
      "execution_count": 119,
      "outputs": [
        {
          "output_type": "stream",
          "name": "stdout",
          "text": [
            "Model: \"sequential_8\"\n",
            "_________________________________________________________________\n",
            " Layer (type)                Output Shape              Param #   \n",
            "=================================================================\n",
            " conv2d_8 (Conv2D)           (None, 6, 6, 6)           60        \n",
            "                                                                 \n",
            " max_pooling2d_8 (MaxPoolin  (None, 3, 3, 6)           0         \n",
            " g2D)                                                            \n",
            "                                                                 \n",
            " flatten_8 (Flatten)         (None, 54)                0         \n",
            "                                                                 \n",
            " dense_16 (Dense)            (None, 50)                2750      \n",
            "                                                                 \n",
            " dense_17 (Dense)            (None, 4)                 204       \n",
            "                                                                 \n",
            "=================================================================\n",
            "Total params: 3014 (11.77 KB)\n",
            "Trainable params: 3014 (11.77 KB)\n",
            "Non-trainable params: 0 (0.00 Byte)\n",
            "_________________________________________________________________\n",
            "Epoch 1/40\n",
            "100/100 [==============================] - 1s 4ms/step - loss: 2.3543 - accuracy: 0.2500 - val_loss: 1.5778 - val_accuracy: 0.2333\n",
            "Epoch 2/40\n",
            "100/100 [==============================] - 0s 3ms/step - loss: 1.5856 - accuracy: 0.2520 - val_loss: 1.5138 - val_accuracy: 0.2667\n",
            "Epoch 3/40\n",
            "100/100 [==============================] - 0s 3ms/step - loss: 1.5222 - accuracy: 0.2840 - val_loss: 1.4795 - val_accuracy: 0.2600\n",
            "Epoch 4/40\n",
            "100/100 [==============================] - 0s 3ms/step - loss: 1.4580 - accuracy: 0.2730 - val_loss: 1.4720 - val_accuracy: 0.2500\n",
            "Epoch 5/40\n",
            "100/100 [==============================] - 0s 3ms/step - loss: 1.4137 - accuracy: 0.2930 - val_loss: 1.4768 - val_accuracy: 0.2600\n",
            "Epoch 6/40\n",
            "100/100 [==============================] - 0s 3ms/step - loss: 1.3944 - accuracy: 0.3320 - val_loss: 1.5363 - val_accuracy: 0.2400\n",
            "Epoch 7/40\n",
            "100/100 [==============================] - 0s 3ms/step - loss: 1.3696 - accuracy: 0.3280 - val_loss: 1.4796 - val_accuracy: 0.2233\n",
            "Epoch 8/40\n",
            "100/100 [==============================] - 0s 3ms/step - loss: 1.3543 - accuracy: 0.3480 - val_loss: 1.4673 - val_accuracy: 0.2400\n",
            "Epoch 9/40\n",
            "100/100 [==============================] - 0s 3ms/step - loss: 1.3418 - accuracy: 0.3630 - val_loss: 1.5299 - val_accuracy: 0.2267\n",
            "Epoch 10/40\n",
            "100/100 [==============================] - 0s 3ms/step - loss: 1.3182 - accuracy: 0.3790 - val_loss: 1.5014 - val_accuracy: 0.2267\n",
            "Epoch 11/40\n",
            "100/100 [==============================] - 0s 3ms/step - loss: 1.3139 - accuracy: 0.3780 - val_loss: 1.5031 - val_accuracy: 0.2367\n",
            "Epoch 12/40\n",
            "100/100 [==============================] - 0s 3ms/step - loss: 1.3096 - accuracy: 0.3660 - val_loss: 1.4991 - val_accuracy: 0.2200\n",
            "Epoch 13/40\n",
            "100/100 [==============================] - 0s 4ms/step - loss: 1.2812 - accuracy: 0.3890 - val_loss: 1.5047 - val_accuracy: 0.2567\n",
            "Epoch 14/40\n",
            "100/100 [==============================] - 0s 4ms/step - loss: 1.2686 - accuracy: 0.4070 - val_loss: 1.5058 - val_accuracy: 0.2233\n",
            "Epoch 15/40\n",
            "100/100 [==============================] - 0s 4ms/step - loss: 1.2589 - accuracy: 0.4310 - val_loss: 1.5102 - val_accuracy: 0.2433\n",
            "Epoch 16/40\n",
            "100/100 [==============================] - 0s 4ms/step - loss: 1.2413 - accuracy: 0.4400 - val_loss: 1.5675 - val_accuracy: 0.2300\n",
            "Epoch 17/40\n",
            "100/100 [==============================] - 0s 4ms/step - loss: 1.2251 - accuracy: 0.4510 - val_loss: 1.5392 - val_accuracy: 0.2233\n",
            "Epoch 18/40\n",
            "100/100 [==============================] - 0s 5ms/step - loss: 1.2232 - accuracy: 0.4450 - val_loss: 1.5730 - val_accuracy: 0.1900\n",
            "Epoch 19/40\n",
            "100/100 [==============================] - 0s 4ms/step - loss: 1.2046 - accuracy: 0.4510 - val_loss: 1.5651 - val_accuracy: 0.2100\n",
            "Epoch 20/40\n",
            "100/100 [==============================] - 0s 5ms/step - loss: 1.1888 - accuracy: 0.4690 - val_loss: 1.5808 - val_accuracy: 0.2000\n",
            "Epoch 21/40\n",
            "100/100 [==============================] - 1s 5ms/step - loss: 1.1740 - accuracy: 0.4810 - val_loss: 1.6117 - val_accuracy: 0.2000\n",
            "Epoch 22/40\n",
            "100/100 [==============================] - 0s 3ms/step - loss: 1.1593 - accuracy: 0.4710 - val_loss: 1.6057 - val_accuracy: 0.2000\n",
            "Epoch 23/40\n",
            "100/100 [==============================] - 0s 3ms/step - loss: 1.1408 - accuracy: 0.5070 - val_loss: 1.6381 - val_accuracy: 0.2233\n",
            "Epoch 24/40\n",
            "100/100 [==============================] - 0s 3ms/step - loss: 1.1246 - accuracy: 0.5000 - val_loss: 1.6971 - val_accuracy: 0.2500\n",
            "Epoch 25/40\n",
            "100/100 [==============================] - 0s 3ms/step - loss: 1.1029 - accuracy: 0.5280 - val_loss: 1.7247 - val_accuracy: 0.2067\n",
            "Epoch 26/40\n",
            "100/100 [==============================] - 0s 3ms/step - loss: 1.1075 - accuracy: 0.5220 - val_loss: 1.6674 - val_accuracy: 0.2367\n",
            "Epoch 27/40\n",
            "100/100 [==============================] - 0s 3ms/step - loss: 1.0756 - accuracy: 0.5340 - val_loss: 1.6534 - val_accuracy: 0.2233\n",
            "Epoch 28/40\n",
            "100/100 [==============================] - 0s 3ms/step - loss: 1.0527 - accuracy: 0.5450 - val_loss: 1.7459 - val_accuracy: 0.2333\n",
            "Epoch 29/40\n",
            "100/100 [==============================] - 0s 3ms/step - loss: 1.0491 - accuracy: 0.5430 - val_loss: 1.7153 - val_accuracy: 0.2067\n",
            "Epoch 30/40\n",
            "100/100 [==============================] - 0s 3ms/step - loss: 1.0256 - accuracy: 0.5660 - val_loss: 1.7406 - val_accuracy: 0.2133\n",
            "Epoch 31/40\n",
            "100/100 [==============================] - 0s 3ms/step - loss: 1.0085 - accuracy: 0.5880 - val_loss: 1.7506 - val_accuracy: 0.2200\n",
            "Epoch 32/40\n",
            "100/100 [==============================] - 0s 3ms/step - loss: 0.9992 - accuracy: 0.5790 - val_loss: 1.8460 - val_accuracy: 0.2200\n",
            "Epoch 33/40\n",
            "100/100 [==============================] - 0s 3ms/step - loss: 0.9799 - accuracy: 0.5980 - val_loss: 1.7903 - val_accuracy: 0.2300\n",
            "Epoch 34/40\n",
            "100/100 [==============================] - 0s 3ms/step - loss: 0.9502 - accuracy: 0.6100 - val_loss: 1.8062 - val_accuracy: 0.1967\n",
            "Epoch 35/40\n",
            "100/100 [==============================] - 0s 3ms/step - loss: 0.9360 - accuracy: 0.6230 - val_loss: 1.8733 - val_accuracy: 0.1933\n",
            "Epoch 36/40\n",
            "100/100 [==============================] - 0s 3ms/step - loss: 0.9256 - accuracy: 0.6240 - val_loss: 1.8971 - val_accuracy: 0.2067\n",
            "Epoch 37/40\n",
            "100/100 [==============================] - 0s 3ms/step - loss: 0.9008 - accuracy: 0.6460 - val_loss: 1.8872 - val_accuracy: 0.2333\n",
            "Epoch 38/40\n",
            "100/100 [==============================] - 0s 3ms/step - loss: 0.9039 - accuracy: 0.6390 - val_loss: 1.9199 - val_accuracy: 0.2100\n",
            "Epoch 39/40\n",
            "100/100 [==============================] - 0s 3ms/step - loss: 0.8795 - accuracy: 0.6590 - val_loss: 2.0878 - val_accuracy: 0.2500\n",
            "Epoch 40/40\n",
            "100/100 [==============================] - 0s 3ms/step - loss: 0.8596 - accuracy: 0.6710 - val_loss: 1.9576 - val_accuracy: 0.2267\n"
          ]
        }
      ]
    },
    {
      "cell_type": "code",
      "source": [
        "# ploting the learning curves\n",
        "pyplot.title('Learning Curves')\n",
        "pyplot.xlabel('Epochs')\n",
        "pyplot.ylabel('Accuracy')\n",
        "pyplot.plot(history_2.history['accuracy'], label='train')\n",
        "pyplot.plot(history_2.history['val_accuracy'], label='val')\n",
        "pyplot.legend()\n",
        "pyplot.show()"
      ],
      "metadata": {
        "id": "jiWYci2QmeaV",
        "execution": {
          "iopub.status.busy": "2022-11-01T16:05:17.100596Z",
          "iopub.execute_input": "2022-11-01T16:05:17.101039Z",
          "iopub.status.idle": "2022-11-01T16:05:17.374430Z",
          "shell.execute_reply.started": "2022-11-01T16:05:17.101001Z",
          "shell.execute_reply": "2022-11-01T16:05:17.373099Z"
        },
        "trusted": true,
        "colab": {
          "base_uri": "https://localhost:8080/",
          "height": 472
        },
        "outputId": "b9afd935-db42-4510-e605-8a8e77418acc"
      },
      "execution_count": 120,
      "outputs": [
        {
          "output_type": "display_data",
          "data": {
            "text/plain": [
              "<Figure size 640x480 with 1 Axes>"
            ],
            "image/png": "[encoded data removed]"
          },
          "metadata": {}
        }
      ]
    },
    {
      "cell_type": "code",
      "source": [
        "# evaluate the model\n",
        "loss, accuracy = model.evaluate(test_data, test_labels, verbose=0)\n",
        "print(f'Accuracy: {accuracy*100}')"
      ],
      "metadata": {
        "id": "PO72iHi0mgwt",
        "execution": {
          "iopub.status.busy": "2022-11-01T16:05:17.375860Z",
          "iopub.execute_input": "2022-11-01T16:05:17.376205Z",
          "iopub.status.idle": "2022-11-01T16:05:17.465218Z",
          "shell.execute_reply.started": "2022-11-01T16:05:17.376175Z",
          "shell.execute_reply": "2022-11-01T16:05:17.463954Z"
        },
        "trusted": true,
        "colab": {
          "base_uri": "https://localhost:8080/"
        },
        "outputId": "df1d6f20-4e72-4934-e7f7-c52d2aaab690"
      },
      "execution_count": 121,
      "outputs": [
        {
          "output_type": "stream",
          "name": "stdout",
          "text": [
            "Accuracy: 25.0\n"
          ]
        }
      ]
    },
    {
      "cell_type": "code",
      "source": [
        "for index in range(len(test_data)):\n",
        "  prediction = model.predict([np.expand_dims(test_data[index], axis=0)], verbose = 0)\n",
        "  print('Predicted label: {} - Actual label: {}'.format(argmax(prediction), test_labels[index]))"
      ],
      "metadata": {
        "id": "bo1YVN0Rmin-",
        "execution": {
          "iopub.status.busy": "2022-11-01T16:05:17.466796Z",
          "iopub.execute_input": "2022-11-01T16:05:17.467165Z",
          "iopub.status.idle": "2022-11-01T16:05:17.693559Z",
          "shell.execute_reply.started": "2022-11-01T16:05:17.467131Z",
          "shell.execute_reply": "2022-11-01T16:05:17.692370Z"
        },
        "trusted": true,
        "colab": {
          "base_uri": "https://localhost:8080/"
        },
        "outputId": "7d18875b-ed48-4f70-9d0c-7cc6a4c80d1c"
      },
      "execution_count": 122,
      "outputs": [
        {
          "output_type": "stream",
          "name": "stdout",
          "text": [
            "Predicted label: 3 - Actual label: [3]\n",
            "Predicted label: 0 - Actual label: [0]\n",
            "Predicted label: 2 - Actual label: [3]\n",
            "Predicted label: 2 - Actual label: [2]\n",
            "Predicted label: 3 - Actual label: [0]\n",
            "Predicted label: 2 - Actual label: [3]\n",
            "Predicted label: 2 - Actual label: [1]\n",
            "Predicted label: 1 - Actual label: [0]\n",
            "Predicted label: 1 - Actual label: [1]\n",
            "Predicted label: 1 - Actual label: [0]\n",
            "Predicted label: 0 - Actual label: [3]\n",
            "Predicted label: 0 - Actual label: [0]\n",
            "Predicted label: 0 - Actual label: [0]\n",
            "Predicted label: 1 - Actual label: [1]\n",
            "Predicted label: 1 - Actual label: [0]\n",
            "Predicted label: 2 - Actual label: [1]\n",
            "Predicted label: 2 - Actual label: [3]\n",
            "Predicted label: 3 - Actual label: [0]\n",
            "Predicted label: 2 - Actual label: [1]\n",
            "Predicted label: 2 - Actual label: [1]\n",
            "Predicted label: 3 - Actual label: [0]\n",
            "Predicted label: 3 - Actual label: [0]\n",
            "Predicted label: 1 - Actual label: [3]\n",
            "Predicted label: 3 - Actual label: [1]\n",
            "Predicted label: 2 - Actual label: [1]\n",
            "Predicted label: 2 - Actual label: [3]\n",
            "Predicted label: 1 - Actual label: [2]\n",
            "Predicted label: 2 - Actual label: [2]\n",
            "Predicted label: 2 - Actual label: [2]\n",
            "Predicted label: 2 - Actual label: [3]\n",
            "Predicted label: 1 - Actual label: [3]\n",
            "Predicted label: 1 - Actual label: [2]\n",
            "Predicted label: 3 - Actual label: [1]\n",
            "Predicted label: 0 - Actual label: [0]\n",
            "Predicted label: 0 - Actual label: [3]\n",
            "Predicted label: 0 - Actual label: [2]\n",
            "Predicted label: 3 - Actual label: [0]\n",
            "Predicted label: 0 - Actual label: [3]\n",
            "Predicted label: 2 - Actual label: [0]\n",
            "Predicted label: 0 - Actual label: [2]\n",
            "Predicted label: 3 - Actual label: [1]\n",
            "Predicted label: 2 - Actual label: [2]\n",
            "Predicted label: 1 - Actual label: [3]\n",
            "Predicted label: 0 - Actual label: [1]\n",
            "Predicted label: 1 - Actual label: [0]\n",
            "Predicted label: 1 - Actual label: [3]\n",
            "Predicted label: 1 - Actual label: [0]\n",
            "Predicted label: 1 - Actual label: [2]\n",
            "Predicted label: 3 - Actual label: [0]\n",
            "Predicted label: 0 - Actual label: [3]\n",
            "Predicted label: 2 - Actual label: [2]\n",
            "Predicted label: 1 - Actual label: [3]\n",
            "Predicted label: 1 - Actual label: [0]\n",
            "Predicted label: 1 - Actual label: [1]\n",
            "Predicted label: 2 - Actual label: [0]\n",
            "Predicted label: 3 - Actual label: [1]\n",
            "Predicted label: 1 - Actual label: [1]\n",
            "Predicted label: 3 - Actual label: [0]\n",
            "Predicted label: 2 - Actual label: [0]\n",
            "Predicted label: 0 - Actual label: [3]\n",
            "Predicted label: 1 - Actual label: [1]\n",
            "Predicted label: 3 - Actual label: [3]\n",
            "Predicted label: 1 - Actual label: [2]\n",
            "Predicted label: 1 - Actual label: [3]\n",
            "Predicted label: 3 - Actual label: [0]\n",
            "Predicted label: 1 - Actual label: [0]\n",
            "Predicted label: 3 - Actual label: [1]\n",
            "Predicted label: 1 - Actual label: [3]\n",
            "Predicted label: 1 - Actual label: [3]\n",
            "Predicted label: 0 - Actual label: [0]\n",
            "Predicted label: 3 - Actual label: [1]\n",
            "Predicted label: 3 - Actual label: [1]\n",
            "Predicted label: 2 - Actual label: [1]\n",
            "Predicted label: 2 - Actual label: [0]\n",
            "Predicted label: 3 - Actual label: [1]\n",
            "Predicted label: 2 - Actual label: [2]\n",
            "Predicted label: 0 - Actual label: [2]\n",
            "Predicted label: 0 - Actual label: [3]\n",
            "Predicted label: 2 - Actual label: [2]\n",
            "Predicted label: 3 - Actual label: [2]\n",
            "Predicted label: 3 - Actual label: [2]\n",
            "Predicted label: 0 - Actual label: [0]\n",
            "Predicted label: 3 - Actual label: [0]\n",
            "Predicted label: 0 - Actual label: [2]\n",
            "Predicted label: 2 - Actual label: [0]\n",
            "Predicted label: 0 - Actual label: [2]\n",
            "Predicted label: 1 - Actual label: [3]\n",
            "Predicted label: 0 - Actual label: [2]\n",
            "Predicted label: 0 - Actual label: [3]\n",
            "Predicted label: 0 - Actual label: [0]\n",
            "Predicted label: 0 - Actual label: [1]\n",
            "Predicted label: 0 - Actual label: [1]\n",
            "Predicted label: 1 - Actual label: [1]\n",
            "Predicted label: 0 - Actual label: [3]\n",
            "Predicted label: 1 - Actual label: [2]\n",
            "Predicted label: 3 - Actual label: [3]\n",
            "Predicted label: 2 - Actual label: [1]\n",
            "Predicted label: 0 - Actual label: [0]\n",
            "Predicted label: 2 - Actual label: [0]\n",
            "Predicted label: 1 - Actual label: [1]\n"
          ]
        }
      ]
    },
    {
      "cell_type": "code",
      "source": [
        "pip install tinymlgen"
      ],
      "metadata": {
        "id": "Ipu1wfi4kLSQ"
      },
      "execution_count": null,
      "outputs": []
    },
    {
      "cell_type": "code",
      "source": [
        "from tinymlgen import port\n",
        "\n",
        "c_code = port(model, variable_name='model', pretty_print=True,optimize=False)\n",
        "filename = 'net.h'\n",
        "with open(filename,'w') as f:\n",
        "    f.write(c_code)"
      ],
      "metadata": {
        "id": "AN_lEWxOCqJe"
      },
      "execution_count": 101,
      "outputs": []
    },
    {
      "cell_type": "code",
      "source": [
        "test_data[0].flatten()"
      ],
      "metadata": {
        "colab": {
          "base_uri": "https://localhost:8080/"
        },
        "id": "ImqR43-UFaD3",
        "outputId": "4de425fb-933a-4f8c-de8b-2dee3dd7718b"
      },
      "execution_count": 91,
      "outputs": [
        {
          "output_type": "execute_result",
          "data": {
            "text/plain": [
              "array([ 9.,  0.,  2., 10.,  2.,  6., 10., 14., 11.,  0.,  1.,  1.,  5.,\n",
              "        5., 10., 14.,  9., 10.,  4., 12., 10., 13.,  2.,  5.,  9., 15.,\n",
              "       10.,  5.,  9.,  2., 11.,  1.,  3.,  7., 15., 14.,  1.,  0., 10.,\n",
              "       12.,  1.,  0., 11.,  0., 10.,  3., 13.,  9., 13.,  9., 13.,  6.,\n",
              "       12.,  7., 11., 11., 13.,  9.,  8.,  6., 12.,  8.,  5.,  1.],\n",
              "      dtype=float32)"
            ]
          },
          "metadata": {},
          "execution_count": 91
        }
      ]
    }
  ]
}